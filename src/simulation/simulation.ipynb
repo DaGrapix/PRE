{
 "cells": [
  {
   "attachments": {},
   "cell_type": "markdown",
   "metadata": {},
   "source": [
    "# LEO cubesat motion and sensing simulation"
   ]
  },
  {
   "cell_type": "markdown",
   "metadata": {},
   "source": [
    "CONFIDENTIAL\n",
    "\n",
    "Author: Anthony Kalaydjian\n",
    "\n",
    "The cells starting with % can be run by removing %"
   ]
  },
  {
   "attachments": {},
   "cell_type": "markdown",
   "metadata": {},
   "source": [
    "## Libraries"
   ]
  },
  {
   "cell_type": "code",
   "execution_count": 1,
   "metadata": {},
   "outputs": [],
   "source": [
    "import os\n",
    "import numpy as np\n",
    "import pandas as pd\n",
    "from tqdm.notebook import tqdm\n",
    "tqdm.pandas()\n",
    "from math import *\n",
    "import scipy\n",
    "from scipy.integrate import odeint\n",
    "import matplotlib.pyplot as plt\n",
    "from matplotlib import animation"
   ]
  },
  {
   "cell_type": "markdown",
   "metadata": {},
   "source": [
    "## Simulation"
   ]
  },
  {
   "attachments": {},
   "cell_type": "markdown",
   "metadata": {},
   "source": [
    "### Constants"
   ]
  },
  {
   "cell_type": "code",
   "execution_count": 2,
   "metadata": {},
   "outputs": [],
   "source": [
    "#satellite mass\n",
    "m = 2.1234  #kg\n",
    "\n",
    "#Inertial moment at center of mass\n",
    "IGx = 0.0123 #kg*m^2\n",
    "IGy = 0.0119 #kg*m^2\n",
    "IGz = 0.0046 #kg*m^2\n",
    "\n",
    "#distance between the geometric center and the mass centers\n",
    "dOGx = 6.095e-4   #m\n",
    "dOGy = 1.584e-3   #m\n",
    "dOGz = 1.644e-3   #m\n",
    "\n",
    "#Inertial moment at geometric center\n",
    "Ix = IGx + m*dOGx**2 #kg*m^2\n",
    "Iy = IGy + m*dOGy**2 #kg*m^2\n",
    "Iz = IGz + m*dOGz**2 #kg*m^2\n",
    "\n",
    "#solar flux constants\n",
    "solar_constant = 1373 #W/m^2\n",
    "\n",
    "#earth radius\n",
    "r_earth = 6371000 #m\n",
    "\n",
    "#atmospehre thickeness\n",
    "d_atm = 80000           #m\n",
    "r_atm = r_earth + d_atm #m\n",
    "\n",
    "#earth rotation axis angle with orbit\n",
    "alpha = 23.5*(pi/180)             #rad\n",
    "earth_spin = 7.2921159e-5         #rad/s\n",
    "orbit_rotation_rate = 1.991e-7    #rad/s\n",
    "\n",
    "#earth magnetic field constants\n",
    "mu0 = 4*pi*1e-7 #H/m\n",
    "M = 8*10**22    #A*m^2\n",
    "\n",
    "#stefan-boltzmann constant\n",
    "sigma = 5.670374419e-8  #W/m^2 k^4\n",
    "\n",
    "#EIR (Average infrared radiation emitted by Earth)\n",
    "albedo_mean = 0.3\n",
    "albedo_min = 0.14\n",
    "albedo_max = 0.63\n",
    "\n",
    "#angle of magnetic field axis with rotation angle\n",
    "beta = 11*(pi/180)  #rad\n",
    "\n",
    "#satellite orbit radius\n",
    "altitude = 600000           #m\n",
    "r_orb = altitude + r_earth  #m\n",
    "period = 94.4*60            #s\n",
    "\n",
    "#flux constants\n",
    "Q_IR    = 239       #W/m^2\n",
    "Q_solar = 1360.8    #W/m2\n",
    "\n",
    "#flux emitted from 400nm to 1100nm\n",
    "Q_0 = 907           #W/m^2\n",
    "\n",
    "alpha_P = 0.01\n",
    "alpha_OSR = 0.05\n",
    "alpha_CNT = 0.07\n",
    "\n",
    "sigma_P = alpha_P*Q_0           #W/m^2\n",
    "sigma_OSR = alpha_OSR*Q_IR      #W/m^2\n",
    "sigma_CNT = alpha_CNT*Q_solar   #W/m^2\n",
    "\n",
    "#gyro model\n",
    "sigma_u = 4.81e-05  #arc-s/s^(3/2)\n",
    "sigma_v = 0.2       #arc-s/s^(1/2)\n",
    "\n",
    "sigma_mag = 0.01*mu0*M/(2*pi*(r_orb**3))"
   ]
  },
  {
   "cell_type": "code",
   "execution_count": 3,
   "metadata": {},
   "outputs": [
    {
     "data": {
      "text/plain": [
       "(0.01230078882239685, 0.0119053277295104, 0.0046057389896223995)"
      ]
     },
     "execution_count": 3,
     "metadata": {},
     "output_type": "execute_result"
    }
   ],
   "source": [
    "Ix, Iy, Iz"
   ]
  },
  {
   "attachments": {},
   "cell_type": "markdown",
   "metadata": {},
   "source": [
    "### Quaternion operations"
   ]
  },
  {
   "cell_type": "code",
   "execution_count": 4,
   "metadata": {},
   "outputs": [],
   "source": [
    "def q_to_R(q):\n",
    "    \"\"\"\n",
    "    Returns the rotation matrix associated to the rotation defined by the quaternion\n",
    "    \"\"\"\n",
    "    q = q.squeeze()\n",
    "    try:\n",
    "        q1 = q.iloc[0]\n",
    "        q2 = q.iloc[1]\n",
    "        q3 = q.iloc[2]\n",
    "        q4 = q.iloc[3]\n",
    "    except:\n",
    "        try:\n",
    "            q1 = q[0]\n",
    "            q2 = q[1]\n",
    "            q3 = q[2]\n",
    "            q4 = q[3]\n",
    "        except:\n",
    "            q1 = q[0,0]\n",
    "            q2 = q[0,1]\n",
    "            q3 = q[0,2]\n",
    "            q4 = q[0,3]\n",
    "            \n",
    "            \n",
    "\n",
    "    R = np.matrix(\n",
    "        [\n",
    "            [1 - 2*(q2**2 + q3**2), 2*(q1*q2 - q3*q4), 2*(q1*q3 + q4*q2), 0],\n",
    "            [2*(q1*q2 + q4*q3), 1 - 2*(q1**2 + q3**2), 2*(q2*q3 - q1*q4), 0],\n",
    "            [2*(q1*q3 - q4*q2), 2*(q2*q3 + q4*q1), 1 - 2*(q1**2 + q2**2), 0],\n",
    "            [0, 0, 0, 1]\n",
    "        ]\n",
    "    )\n",
    "\n",
    "    return R.squeeze()"
   ]
  },
  {
   "cell_type": "code",
   "execution_count": 5,
   "metadata": {},
   "outputs": [],
   "source": [
    "def R_to_q(R):\n",
    "    \"\"\"\n",
    "    Computes the quaternion associated to a DCM\n",
    "    \"\"\"\n",
    "    R = R.transpose()\n",
    "    if (R[2,2] < 0):\n",
    "        if R[0,0] >R[1,1]:\n",
    "            t = 1 + R[0,0] -R[1,1] -R[2,2]\n",
    "            q = np.matrix([t, R[0,1]+R[1,0], R[2,0]+R[0,2], R[1,2]-R[2,1]]).transpose()\n",
    "        else:\n",
    "            t = 1 -R[0,0] + R[1,1] -R[2,2]\n",
    "            q = np.matrix([R[0,1]+R[1,0], t, R[1,2]+R[2,1], R[2,0]-R[0,2]]).transpose()\n",
    "\n",
    "    else:\n",
    "        if (R[0,0] < -R[1,1]):\n",
    "            t = 1 -R[0,0] -R[1,1] + R[2,2]\n",
    "            q = np.matrix([R[2,0]+R[0,2], R[1,2]+R[2,1], t, R[0,1]-R[1,0]]).transpose()\n",
    "\n",
    "        else:\n",
    "            t = 1 + R[0,0] + R[1,1] + R[2,2]\n",
    "            q = np.matrix([R[1,2]-R[2,1], R[2,0]-R[0,2], R[0,1]-R[1,0], t]).transpose()\n",
    "\n",
    "    q = q*0.5/sqrt(t)\n",
    "    return q"
   ]
  },
  {
   "cell_type": "code",
   "execution_count": 6,
   "metadata": {},
   "outputs": [
    {
     "name": "stdout",
     "output_type": "stream",
     "text": [
      "[0.         0.65084792 0.         0.75920813]\n",
      "[0.         0.65084792 0.         0.75920813]\n"
     ]
    }
   ],
   "source": [
    "\"\"\"Test R_to_q\"\"\"\n",
    "u = np.random.random(3)\n",
    "u = u/np.linalg.norm(u)\n",
    "theta = np.random.random()\n",
    "u = np.array([0,1,0]).transpose()\n",
    "q = np.concatenate([sin(theta)*u, [cos(theta)]])\n",
    "\n",
    "q_hat = np.array(R_to_q(q_to_R(q)).transpose()).squeeze()\n",
    "\n",
    "print(q)\n",
    "print(q_hat.squeeze())"
   ]
  },
  {
   "attachments": {},
   "cell_type": "markdown",
   "metadata": {},
   "source": [
    "### Frame transformation matrices"
   ]
  },
  {
   "cell_type": "code",
   "execution_count": 7,
   "metadata": {},
   "outputs": [],
   "source": [
    "##P_I_ORB\n",
    "def P_I_ORB_f(time):\n",
    "    \"\"\"just rotate of theta along the z axis\"\"\"\n",
    "    theta = orbit_rotation_rate*time%(2*pi)\n",
    "    v = np.array([0, 0, sin(theta/2)])\n",
    "    q = np.concatenate((v, np.array([cos(theta/2)])), axis=0)\n",
    "    P_I_ORB = q_to_R(q)[0:3, 0:3]\n",
    "    \n",
    "    return P_I_ORB\n",
    "\n",
    "##P_I_ROT\n",
    "def P_I_ROT_f(time):\n",
    "    \"\"\"Rotate the frame along its y axis then spin it along its new z axis\"\"\"\n",
    "    P_I_RotAxis = q_to_R(np.array([0, sin(-alpha/2), 0, cos(-alpha/2)]))[0:3, 0:3]\n",
    "    spin_angle = earth_spin*time%(2*pi)\n",
    "    P_RotAxis_ROT = q_to_R(np.array([0, 0, sin(spin_angle/2), cos(spin_angle/2)]))[0:3, 0:3]\n",
    "    P_I_ROT = P_I_RotAxis@P_RotAxis_ROT\n",
    "\n",
    "    return P_I_ROT\n",
    "\n",
    "#P_I_MAG\n",
    "def P_I_MAG_f(time):\n",
    "    \"\"\"First calculate P_I_ROT, then rotate this frame of an angle of beta along its y axis\"\"\"\n",
    "    P_I_ROT_ = P_I_ROT_f(time)\n",
    "    P_ROT_MAG = q_to_R(np.array([0, sin(-beta/2), 0, cos(-beta/2)]))[0:3, 0:3]\n",
    "\n",
    "    P_I_MAG = P_I_ROT_@P_ROT_MAG\n",
    "\n",
    "    return P_I_MAG\n",
    "\n",
    "#P_ORB_ROT\n",
    "def P_ORB_ROT_f(time):\n",
    "    P_I_ORB = P_I_ORB_f(time)\n",
    "    P_I_ROT = P_I_ROT_f(time)\n",
    "\n",
    "    P_ORB_ROT = np.transpose(P_I_ORB)@P_I_ROT\n",
    "\n",
    "    return P_ORB_ROT\n",
    "\n",
    "#P_ORB_MAG\n",
    "def P_ORB_MAG_f(time):\n",
    "    P_I_ORB = P_I_ORB_f(time)\n",
    "    P_I_MAG = P_I_MAG_f(time)\n",
    "\n",
    "    P_ORB_MAG = np.transpose(P_I_ORB)@P_I_MAG\n",
    "    \n",
    "    return P_ORB_MAG"
   ]
  },
  {
   "attachments": {},
   "cell_type": "markdown",
   "metadata": {},
   "source": [
    "### Dynamics"
   ]
  },
  {
   "cell_type": "code",
   "execution_count": 8,
   "metadata": {},
   "outputs": [],
   "source": [
    "def rotation_matrix(w):\n",
    "    \"\"\"\n",
    "    Rotation matrix of the quaternion associated to the w vector\n",
    "    \"\"\"\n",
    "    R = np.matrix(\n",
    "        [[0, -w[2], w[1], w[0]],\n",
    "        [w[2], 0, -w[0], w[1]],\n",
    "        [-w[1], w[0], 0, w[2]],\n",
    "        [-w[0], -w[1], -w[2], 0]])\n",
    "    return R"
   ]
  },
  {
   "cell_type": "code",
   "execution_count": 9,
   "metadata": {},
   "outputs": [],
   "source": [
    "def dw_dt(w, t):\n",
    "    \"\"\"\n",
    "    Returns the values of the w derivatives in Euler's formula when no torque is applied\n",
    "    \"\"\"\n",
    "    dw1 = -((Iz-Iy)/Ix)*w[1]*w[2]\n",
    "    dw2 = -((Ix-Iz)/Iy)*w[2]*w[0]\n",
    "    dw3 = -((Iy-Ix)/Iz)*w[0]*w[1]\n",
    "\n",
    "    return(dw1, dw2, dw3)"
   ]
  },
  {
   "cell_type": "code",
   "execution_count": 10,
   "metadata": {},
   "outputs": [],
   "source": [
    "def q_sequence(q, w, n_iter, dt):\n",
    "    \"\"\"\n",
    "    Returns, in the inertial frame, the sequence of attitude quaternion resulting from the rotation sequence w occuring in the body frame\n",
    "    \"\"\"\n",
    "    q_list = []\n",
    "    old_q = q\n",
    "    for i in range(n_iter):\n",
    "        new_q = old_q + (1/2)*dt*rotation_matrix(w[i])@old_q\n",
    "        new_q = new_q/np.linalg.norm(new_q)\n",
    "        q_list.append(new_q)\n",
    "        old_q = new_q        \n",
    "\n",
    "    return np.array(q_list)"
   ]
  },
  {
   "cell_type": "code",
   "execution_count": 11,
   "metadata": {},
   "outputs": [],
   "source": [
    "def satellite_position(time, t0, initial_position):\n",
    "    \"\"\"\n",
    "    Returns satellite's position in the orbital frame\n",
    "    \"\"\"\n",
    "    satellite_angle = (2*pi)*((time - t0)%period)/period\n",
    "    R = q_to_R(np.array([0, sin(satellite_angle/2), 0, cos(satellite_angle/2)]))[0:3, 0:3]\n",
    "    satellite_pos = R@initial_position\n",
    "    \n",
    "    return satellite_pos"
   ]
  },
  {
   "attachments": {},
   "cell_type": "markdown",
   "metadata": {},
   "source": [
    "### Sensors"
   ]
  },
  {
   "attachments": {},
   "cell_type": "markdown",
   "metadata": {},
   "source": [
    "#### Magnetic field"
   ]
  },
  {
   "cell_type": "code",
   "execution_count": 12,
   "metadata": {},
   "outputs": [],
   "source": [
    "def B_from_ORB(pos_ORB, t):\n",
    "    \"\"\"\n",
    "    returns the magnetic field in cartesian coordinates in the magnetic frame\n",
    "    \"\"\"\n",
    "    P_MAG_ORB = P_ORB_MAG_f(t).transpose()\n",
    "\n",
    "    #position in the magnetic frame\n",
    "    pos_MAG = P_MAG_ORB@pos_ORB\n",
    "    r = np.linalg.norm(pos_MAG)\n",
    "    x, y, z = pos_MAG[0,0], pos_MAG[1,0], pos_MAG[2,0]\n",
    "\n",
    "    theta = acos(z/r)\n",
    "    phi = atan2(y, x)\n",
    "\n",
    "    B_r = mu0*M*cos(theta)/(2*pi*(r**3))\n",
    "    B_theta = mu0*M*sin(theta)/(4*pi*(r**3))\n",
    "    B_phi = 0\n",
    "\n",
    "    e_r = np.matrix([sin(theta)*cos(phi), sin(theta)*sin(phi), cos(theta)]).transpose()\n",
    "    e_theta = np.matrix([cos(theta)*cos(phi), cos(theta)*sin(phi), -sin(theta)]).transpose()\n",
    "    e_phi = np.matrix([-sin(phi), cos(phi), 0]).transpose()\n",
    "\n",
    "    #Calculate B in cartesian coordinates in the magnetic rotating frame\n",
    "    B = B_r*e_r + B_theta*e_theta + B_phi*e_phi\n",
    "\n",
    "    return B"
   ]
  },
  {
   "cell_type": "code",
   "execution_count": 13,
   "metadata": {},
   "outputs": [],
   "source": [
    "def mag_df(row):\n",
    "    \"\"\"\n",
    "    calculates the magnetic field in the satellite's body frame\n",
    "    \"\"\"\n",
    "    #coordinates in the orbital frame\n",
    "    x, y, z, t = row.x, row.y, row.z, row.t\n",
    "    pos_ORB = np.matrix([x, y, z]).transpose()\n",
    "\n",
    "    #magnetic field in the magnetic frame\n",
    "    B = B_from_ORB(pos_ORB, t)\n",
    "\n",
    "    #magnetic field in the inertial frame\n",
    "    B_I = P_I_MAG_f(t)@B\n",
    "    \n",
    "    #magnetic field in the body frame\n",
    "    P_I_SAT = q_to_R(np.matrix([row.q1, row.q2, row.q3, row.q4]).transpose())[0:3, 0:3]\n",
    "    B_sat = P_I_SAT.transpose()@B_I\n",
    "    return np.array(B_sat).squeeze()"
   ]
  },
  {
   "cell_type": "code",
   "execution_count": 14,
   "metadata": {},
   "outputs": [],
   "source": [
    "def mag_BODY_to_I(row):\n",
    "    \"\"\"\n",
    "    calculates the magnetic field vector direction in the inertial frame, at each step\n",
    "    \"\"\"\n",
    "    B_BODY = np.matrix(row[['Bx', 'By', 'Bz']]).transpose()\n",
    "\n",
    "    q = row[['q1', 'q2', 'q3', 'q4']].values\n",
    "    P_I_BODY = q_to_R(q)[0:3,0:3]\n",
    "\n",
    "    B_I = P_I_BODY@B_BODY\n",
    "\n",
    "    return np.array(B_I).squeeze()"
   ]
  },
  {
   "attachments": {},
   "cell_type": "markdown",
   "metadata": {},
   "source": [
    "#### Light flux sensors"
   ]
  },
  {
   "cell_type": "code",
   "execution_count": 15,
   "metadata": {},
   "outputs": [],
   "source": [
    "\"\"\"Albedo model\"\"\"\n",
    "def theta_ORB_TO_ROT(r_M_ORB, time):\n",
    "    \"\"\"\n",
    "    Returns the theta angle associated to the positon r_M_ORB as seen in the ROT frame\n",
    "    \"\"\"\n",
    "    P_ROT_I = P_I_ROT_f(time).transpose()\n",
    "    P_I_ORB = P_I_ORB_f(time)\n",
    "\n",
    "    r_M_ROT = P_ROT_I@P_I_ORB@r_M_ORB\n",
    "    \n",
    "    x,y,z = r_M_ROT[0,0], r_M_ROT[1,0], r_M_ROT[2,0]\n",
    "\n",
    "    r = sqrt(x**2 + y**2 + z**2)\n",
    "    theta_ROT = acos(z/r)\n",
    "\n",
    "    return theta_ROT\n",
    "\n",
    "def albedo(r_M_ORB, time):\n",
    "    \"\"\"\n",
    "    Computes the albedo at a given point on Earth's surface, at a given time\n",
    "    \"\"\"\n",
    "    theta_ROT = theta_ORB_TO_ROT(r_M_ORB, time)\n",
    "    \n",
    "    if (theta_ROT==pi/2):\n",
    "        return albedo_min\n",
    "    \n",
    "    alb_alpha = (albedo_max - albedo_min)/(albedo_max*np.exp(-4/pi**2))\n",
    "    alb = albedo_min + alb_alpha*albedo_max*np.exp(-1/(theta_ROT-pi/2)**2)\n",
    "    \n",
    "    return alb"
   ]
  },
  {
   "cell_type": "code",
   "execution_count": 16,
   "metadata": {},
   "outputs": [
    {
     "data": {
      "text/plain": [
       "<matplotlib.legend.Legend at 0x287d96a7e50>"
      ]
     },
     "execution_count": 16,
     "metadata": {},
     "output_type": "execute_result"
    },
    {
     "data": {
      "image/png": "[encoded data removed]",
      "text/plain": [
       "<Figure size 640x480 with 1 Axes>"
      ]
     },
     "metadata": {},
     "output_type": "display_data"
    }
   ],
   "source": [
    "#plotting the albedo function in terms of theta in the ROT frame\n",
    "%matplotlib inline\n",
    "alb_alpha = (albedo_max - albedo_min)/(albedo_max*np.exp(-4/pi**2))\n",
    "f = lambda theta: albedo_min + alb_alpha*albedo_max*np.exp(-1/(theta-pi/2)**2)\n",
    "theta_list = np.linspace(0, pi, 100)\n",
    "\n",
    "plt.hlines(y=albedo_min, xmin=0, xmax=pi, color=\"blue\")\n",
    "plt.hlines(y=albedo_max, xmin=0, xmax=pi, color=\"green\")\n",
    "plt.plot(theta_list, f(theta_list), color='red')\n",
    "\n",
    "plt.title('albedo function in terms of the angle with the rotation axis')\n",
    "plt.xlabel(\"$\\\\theta$\", fontsize = 'small')\n",
    "plt.ylabel(\"a($\\\\theta$)\", fontsize = 'small')\n",
    "plt.legend((\"$a_{min}$\", \"$a_{max}$\", \"a\"), loc=\"upper right\")"
   ]
  },
  {
   "attachments": {},
   "cell_type": "markdown",
   "metadata": {},
   "source": [
    "$a(\\theta) := a_{min} + \\frac{a_{max} - a_{min}}{a_{max} e^{-4/\\pi^2}} a_{max} e^{-\\frac{1}{(\\theta - \\pi/2)^2}}$"
   ]
  },
  {
   "cell_type": "code",
   "execution_count": 17,
   "metadata": {},
   "outputs": [],
   "source": [
    "def infinitesimal_view_factor_on_plate(theta, phi, row, n_p):\n",
    "    \"\"\"\n",
    "    calculates the light flux contribution of an infinitesimal surface on Earth's atmosphere (taking albedo into account)\n",
    "    on the satellite face defined by its normal n_p.\n",
    "    All calculations are made in the orbital frame\n",
    "    \"\"\"\n",
    "    time = row.t\n",
    "    r_M = np.matrix([r_earth*sin(theta)*cos(phi), r_earth*sin(theta)*sin(phi), r_earth*cos(theta)]).transpose()\n",
    "    r_P = np.matrix([row.x, row.y, row.z]).transpose()\n",
    "\n",
    "    n_M = r_M/np.linalg.norm(r_M)\n",
    "    PM = r_M - r_P\n",
    "    r = np.linalg.norm(PM)\n",
    "    s = np.matrix([1, 0, 0]).transpose()\n",
    "\n",
    "    cos_i = ((-s.transpose())@n_M)[0,0]\n",
    "    cos_M = (n_M.transpose()@(-PM/r))[0,0]\n",
    "    cos_P = (n_p.transpose()@(PM/r))[0,0]\n",
    "\n",
    "    if ((cos_i<=0) or (cos_P<=0) or (cos_M<=0)):\n",
    "        dF = 0.0\n",
    "    else:\n",
    "        dF = albedo(r_M_ORB=r_M, time=time)*cos_i*cos_M*cos_P*sin(theta)*(r_atm**2)/(pi*r**2)\n",
    "\n",
    "    return dF\n",
    "\n",
    "def view_factor_on_plate(row, n_p):\n",
    "    \"\"\"\n",
    "    Integrates the infinitesimal view factor on all of earth surface\n",
    "    \"\"\"\n",
    "    theta_lower = 0\n",
    "    theta_upper = pi\n",
    "    phi_lower = pi/2\n",
    "    phi_upper = 3*pi/2\n",
    "\n",
    "    result, error = scipy.integrate.dblquad(lambda theta, phi: infinitesimal_view_factor_on_plate(theta, phi, row=row, n_p=n_p),\n",
    "    phi_lower, phi_upper, theta_lower, theta_upper, epsabs=e-2)\n",
    "\n",
    "    return result\n",
    "\n",
    "def reflected_earth_view_factor(row):\n",
    "    \"\"\"\n",
    "    returns the sun's flux that is reflected by earth on each face of the satellite\n",
    "    \"\"\"\n",
    "    x, z = row.x, row.z\n",
    "    if ((x>=0) and (abs(z)<=r_earth)):\n",
    "        return np.zeros(shape=6)\n",
    "    \n",
    "    q = np.matrix([row.q1, row.q2, row.q3, row.q4]).transpose()\n",
    "    \n",
    "    P_I_BODY = q_to_R(q)[0:3, 0:3]\n",
    "    P_ORB_I = P_I_ORB_f(row.t).transpose()\n",
    "    \n",
    "    #body frame vectors in the orbital reference frame\n",
    "    u_x = P_ORB_I@P_I_BODY[:, 0]\n",
    "    u_y = P_ORB_I@P_I_BODY[:, 1]\n",
    "    u_z = P_ORB_I@P_I_BODY[:, 2]\n",
    "    \n",
    "    faces = [u_x, -u_x, u_y, -u_y, u_z, -u_z]\n",
    "    F_list = np.zeros(len(faces))\n",
    "    for i in range(len(faces)):\n",
    "        F_list[i] = view_factor_on_plate(row, faces[i])\n",
    "    \n",
    "    return F_list"
   ]
  },
  {
   "cell_type": "code",
   "execution_count": 18,
   "metadata": {},
   "outputs": [],
   "source": [
    "def incident_solar_flux_fraction(row):\n",
    "    \"\"\"\n",
    "    returns the absorbed incident solar flux fraction on each face of the satellite\n",
    "    \"\"\"\n",
    "    x, z = row.x, row.z\n",
    "    if ((x>=0) and (abs(z)<=r_earth)):\n",
    "        return np.zeros(shape=6)\n",
    "\n",
    "    q = np.matrix([row.q1, row.q2, row.q3, row.q4]).transpose()\n",
    "    \n",
    "    P_I_BODY = q_to_R(q)[0:3,0:3]\n",
    "    P_ORB_I = P_I_ORB_f(row.t).transpose()\n",
    "\n",
    "    #body frame vector coordinates in the orbital frame\n",
    "    u_x = P_ORB_I@P_I_BODY[:, 0]\n",
    "    u_y = P_ORB_I@P_I_BODY[:, 1]\n",
    "    u_z = P_ORB_I@P_I_BODY[:, 2]\n",
    "    \n",
    "    faces = np.array([u_x, -u_x, u_y, -u_y, u_z, -u_z])\n",
    "\n",
    "    #sun vector, in the sun ray travelling direction, in the orbital frame\n",
    "    s = np.matrix([1,0,0]).transpose()\n",
    "    \n",
    "    #flux calculation on each face\n",
    "    fraction_list = np.zeros(shape=6)\n",
    "    for i in range(len(faces)):\n",
    "        cos_theta = (faces[i].transpose()@(-s))[0,0]\n",
    "        fraction_list[i] = cos_theta if cos_theta>0 else 0\n",
    "    \n",
    "    return fraction_list"
   ]
  },
  {
   "cell_type": "code",
   "execution_count": 19,
   "metadata": {},
   "outputs": [],
   "source": [
    "def black_body_view_factor(row):\n",
    "    \"\"\"\n",
    "    returns the earth black body radiation view factor on each face of the satellite\n",
    "    \"\"\"\n",
    "    #position of the satellite in the orbital frame\n",
    "    pos_ORB = np.matrix([row.x, row.y, row.z]).transpose()\n",
    "    n = pos_ORB/np.linalg.norm(pos_ORB)\n",
    "\n",
    "    q = np.matrix([row.q1, row.q2, row.q3, row.q4]).transpose()\n",
    "    \n",
    "    P_I_BODY = q_to_R(q)[0:3, 0:3]\n",
    "    P_ORB_I = P_I_ORB_f(row.t).transpose()\n",
    "\n",
    "    #body frame vector coordinates in the orbital frame\n",
    "    u_x = P_ORB_I@P_I_BODY[:, 0]\n",
    "    u_y = P_ORB_I@P_I_BODY[:, 1]\n",
    "    u_z = P_ORB_I@P_I_BODY[:, 2]\n",
    "    \n",
    "    faces = [u_x, -u_x, u_y, -u_y, u_z, -u_z]\n",
    "\n",
    "    F_list = np.zeros(shape=6)\n",
    "\n",
    "    h = r_orb\n",
    "    H = h/r_earth\n",
    "    phi = asin(1/H)\n",
    "\n",
    "    for i in range(len(faces)):\n",
    "        lbda = acos((-n.transpose()@faces[i])[0,0])\n",
    "        if (lbda < pi/2 - phi):\n",
    "            F = cos(lbda)/H**2\n",
    "        elif (lbda <= pi/2 + phi):\n",
    "            F = 1/2 - (1/pi)*asin(sqrt(H**2-1)/(H*sin(lbda))) + (1/(pi*H**2))*(cos(lbda)*acos(-sqrt(H**2-1)*cos(lbda)/sin(lbda)) - sqrt(H**2-1)*sqrt(1 - H**2*cos(lbda)**2))\n",
    "        else:\n",
    "            F = 0\n",
    "        F_list[i] = F\n",
    "\n",
    "    return F_list"
   ]
  },
  {
   "cell_type": "markdown",
   "metadata": {},
   "source": [
    "#### Others"
   ]
  },
  {
   "cell_type": "code",
   "execution_count": 20,
   "metadata": {},
   "outputs": [],
   "source": [
    "def gyro_noise(df, dt):\n",
    "    \"\"\"\n",
    "    Simulates the gyroscope's noise\n",
    "    \"\"\"\n",
    "    gyro = np.zeros_like(df[[\"w_x\", \"w_y\", \"w_z\"]])\n",
    "\n",
    "    old_beta = 0\n",
    "\n",
    "    for i in range(len(df)):\n",
    "        w = df.iloc[i][[\"w_x\", \"w_y\", \"w_z\"]]\n",
    "\n",
    "        N_u = np.random.normal(loc=0, scale=1, size=3)\n",
    "        N_v = np.random.normal(loc=0, scale=1, size=3)\n",
    "\n",
    "        new_beta = old_beta + sigma_u*(dt**(1/2))*N_u\n",
    "\n",
    "        gyro[i,:] = w + (1/2)*(new_beta + old_beta) + sqrt((sigma_v**2)/dt + (1/12)*(sigma_u**2)*dt)*N_v\n",
    "        old_beta = new_beta\n",
    "    \n",
    "    return gyro"
   ]
  },
  {
   "cell_type": "code",
   "execution_count": 21,
   "metadata": {},
   "outputs": [],
   "source": [
    "def sun_LOS_df(row):\n",
    "    \"\"\"\n",
    "    Returns the Sun Line of Site, in the inertial frame\n",
    "    \"\"\"\n",
    "    s_ORB = np.matrix([-1, 0, 0]).transpose()\n",
    "\n",
    "    P_I_ORB = P_I_ORB_f(row.t)\n",
    "\n",
    "    s_I = P_I_ORB@s_ORB\n",
    "\n",
    "    return np.array(s_I).squeeze()"
   ]
  },
  {
   "cell_type": "code",
   "execution_count": 22,
   "metadata": {},
   "outputs": [],
   "source": [
    "def nadir_df(row):\n",
    "    \"\"\"\n",
    "    Returns the nadir direction in the inertial frame\n",
    "    \"\"\"\n",
    "    r_ORB = np.matrix(row[[\"x\", \"y\", \"z\"]]).transpose()\n",
    "\n",
    "    P_I_ORB = P_I_ORB_f(row.t)\n",
    "\n",
    "    r_I = P_I_ORB@r_ORB\n",
    "\n",
    "    nadir = -r_I/np.linalg.norm(r_I)\n",
    "\n",
    "    return(np.array(nadir).squeeze())"
   ]
  },
  {
   "attachments": {},
   "cell_type": "markdown",
   "metadata": {},
   "source": [
    "### All-in-one dataframe generating function"
   ]
  },
  {
   "cell_type": "code",
   "execution_count": 23,
   "metadata": {},
   "outputs": [],
   "source": [
    "def generate_df(t0, dt, n_iter, w0, initial_q, initial_angle, sigma_OSR=sigma_OSR, sigma_P=sigma_P, sigma_CNT=sigma_CNT):\n",
    "    \"\"\"\n",
    "    Generates a dataframe given the initial conditions\n",
    "    \"\"\"\n",
    "    \n",
    "    #time at each time step\n",
    "    t_list = t0 + np.arange(start=0, stop=n_iter*dt, step=dt)\n",
    "\n",
    "    #w is the angular at each time step in the satellite's body frame\n",
    "    w = odeint(dw_dt, w0, t_list)\n",
    "\n",
    "    #sequence of attitude quaternions\n",
    "    q_list = q_sequence(q=initial_q, w=w, n_iter=n_iter, dt=dt)\n",
    "\n",
    "    #initial position in the orbital frame\n",
    "    R_init_0 = q_to_R(np.array([0, sin(initial_angle/2), 0, cos(initial_angle/2)]))[0:3, 0:3]\n",
    "    initial_position = R_init_0@np.matrix([r_orb, 0, 0]).transpose()\n",
    "\n",
    "    #sequence of positions in the orbital frame\n",
    "    position_list = []\n",
    "    for i in range(n_iter):\n",
    "        position_list.append(satellite_position(t_list[i], t0, initial_position))\n",
    "    \n",
    "    df = pd.DataFrame(t_list, columns=[\"t\"])\n",
    "    df = pd.concat([df, pd.DataFrame(np.array(position_list).squeeze(), columns=[\"x\", \"y\", \"z\"])], axis=1)\n",
    "    df = pd.concat([df, pd.DataFrame(q_list.squeeze(), columns=[\"q1\", \"q2\", \"q3\", \"q4\"])], axis=1)\n",
    "    \n",
    "    #include magnetic field measurements in the satellite's body frame\n",
    "    df[['Bx', 'By', 'Bz']] = df.apply(mag_df, axis='columns', result_type='expand')\n",
    "    #adding magnetometer error\n",
    "    df[['mag_x', 'mag_y', 'mag_z']] = df[['Bx', 'By', 'Bz']] + np.random.normal(loc=0, scale=sigma_mag, size=(n_iter,3))\n",
    "\n",
    "    #True magnetic field in the inertial frame\n",
    "    df[['B_I_x', 'B_I_y', 'B_I_z']] = df.apply(mag_BODY_to_I, axis='columns', result_type='expand')\n",
    "\n",
    "    #Sun Line of sight in inertial frame\n",
    "    df[['s_I_x', 's_I_y', 's_I_z']] = df.apply(sun_LOS_df, axis='columns', result_type='expand')\n",
    "\n",
    "    #nadir direction in inertial frame\n",
    "    df[['n_I_x', 'n_I_y', 'n_I_z']] = df.apply(nadir_df, axis='columns', result_type='expand')\n",
    "\n",
    "    #include light sensors measurements on each face of the satellite\n",
    "    incident_sun_flux_fraction = df.apply(incident_solar_flux_fraction, axis='columns', result_type='expand')\n",
    "    reflected_view_factor = df.progress_apply(reflected_earth_view_factor, axis='columns', result_type='expand')\n",
    "    bb_view_factor = df.apply(black_body_view_factor, axis='columns', result_type='expand')\n",
    "\n",
    "    sun_flux_fraction = incident_sun_flux_fraction + reflected_view_factor\n",
    "\n",
    "    df[['CNT_px', 'CNT_mx', 'CNT_py', 'CNT_my', 'CNT_pz', 'CNT_mz']] = Q_solar*sun_flux_fraction + Q_IR*bb_view_factor + np.random.normal(loc=0, scale=sigma_CNT, size=(n_iter,6))\n",
    "    df[['OSR_px', 'OSR_mx', 'OSR_py', 'OSR_my', 'OSR_pz', 'OSR_mz']] = 0.06*Q_solar*sun_flux_fraction + 0.84*Q_IR*bb_view_factor + np.random.normal(loc=0, scale=sigma_OSR, size=(n_iter,6))\n",
    "    df[['P_px', 'P_mx', 'P_py', 'P_my', 'P_pz', 'P_mz']] = Q_0*sun_flux_fraction + np.random.normal(loc=0, scale=sigma_P, size=(n_iter,6))\n",
    "    \n",
    "    #removing negative values that may appear when the light flux is small compared to the gaussian noise\n",
    "    df[['OSR_px', 'OSR_mx', 'OSR_py', 'OSR_my', 'OSR_pz', 'OSR_mz']] = np.abs(df[['OSR_px', 'OSR_mx', 'OSR_py', 'OSR_my', 'OSR_pz', 'OSR_mz']])\n",
    "    df[['CNT_px', 'CNT_mx', 'CNT_py', 'CNT_my', 'CNT_pz', 'CNT_mz']] = np.abs(df[['CNT_px', 'CNT_mx', 'CNT_py', 'CNT_my', 'CNT_pz', 'CNT_mz']])\n",
    "    df[['P_px', 'P_mx', 'P_py', 'P_my', 'P_pz', 'P_mz']] = np.abs(df[['P_px', 'P_mx', 'P_py', 'P_my', 'P_pz', 'P_mz']])\n",
    "\n",
    "    #real rotation rate in the body frame\n",
    "    df[['w_x', 'w_y', 'w_z']] = w\n",
    "\n",
    "    #add noise to the gyro noise\n",
    "    df[['gyro_x', 'gyro_y', 'gyro_z']] = w + gyro_noise(df, dt)\n",
    "\n",
    "    return(df)"
   ]
  },
  {
   "attachments": {},
   "cell_type": "markdown",
   "metadata": {},
   "source": [
    "### Results"
   ]
  },
  {
   "attachments": {},
   "cell_type": "markdown",
   "metadata": {},
   "source": [
    "#### Single dataframe generation"
   ]
  },
  {
   "cell_type": "code",
   "execution_count": 24,
   "metadata": {},
   "outputs": [
    {
     "name": "stderr",
     "output_type": "stream",
     "text": [
      "UsageError: Line magic function `%` not found.\n"
     ]
    }
   ],
   "source": [
    "\"\"\"simulation constants\"\"\"\n",
    "\"\"\"sigma_P = 0\n",
    "sigma_OSR = 0\n",
    "sigma_CNT = 0\n",
    "sigma_mag = 0\"\"\"\n",
    "%\n",
    "#t0 = 365*86400//3  #s\n",
    "t0 = np.random.randint(0, 365*86400)\n",
    "#t0 = 0\n",
    "dt = 1  #s\n",
    "n_iter = 600\n",
    "w0 = 0.15*np.random.random(size=3)  #rad/s\n",
    "\n",
    "rotation_axis = np.matrix(np.random.random(size=3)).transpose()\n",
    "rotation_axis = rotation_axis/np.linalg.norm(rotation_axis)\n",
    "initial_rotation_angle = 2*pi*np.random.random()\n",
    "initial_q = np.concatenate([sin(initial_rotation_angle/2)*rotation_axis, np.matrix([cos(initial_rotation_angle/2)])], axis=0)\n",
    "\n",
    "initial_angle = pi - pi/8 #rad\n",
    "initial_angle = 0\n",
    "\n",
    "df = generate_df(t0, dt, n_iter, w0, initial_q, initial_angle)\n",
    "\n",
    "fname = \"datasets/new_test.csv\"\n",
    "df.to_csv(fname)"
   ]
  },
  {
   "attachments": {},
   "cell_type": "markdown",
   "metadata": {},
   "source": [
    "##### Save df"
   ]
  },
  {
   "cell_type": "code",
   "execution_count": 25,
   "metadata": {},
   "outputs": [
    {
     "name": "stderr",
     "output_type": "stream",
     "text": [
      "UsageError: Line magic function `%` not found.\n"
     ]
    }
   ],
   "source": [
    "%\n",
    "fname = \"datasets/\" + \"no_error_\" + \"df1_t0=\" + str(t0) + \"_n=\" + str(n_iter) + \"_dt=\" + str(dt) + \"_w0=\" + str(w0) + \"initial_angle=\" + str(initial_angle) + \".csv\"\n",
    "df.to_csv(fname)"
   ]
  },
  {
   "cell_type": "markdown",
   "metadata": {},
   "source": [
    "#### Shadow zone multiple generation"
   ]
  },
  {
   "cell_type": "code",
   "execution_count": 80,
   "metadata": {},
   "outputs": [],
   "source": [
    "N_theta = 10\n",
    "N_phi   = 10\n",
    "N_time  = 10\n",
    "N_angle = 10\n",
    "N_train = N_theta*N_phi*N_time*N_angle\n",
    "n_iter = 60\n",
    "counter = 0\n",
    "dt = 1"
   ]
  },
  {
   "cell_type": "code",
   "execution_count": 26,
   "metadata": {},
   "outputs": [
    {
     "name": "stderr",
     "output_type": "stream",
     "text": [
      "UsageError: Line magic function `%` not found.\n"
     ]
    }
   ],
   "source": [
    "%\n",
    "%%capture\n",
    "\"\"\"Generating data in the shadow zone\"\"\"\n",
    "np.random.seed(42)\n",
    "\n",
    "dirname = \"datasets/train_sets\"\n",
    "try:\n",
    "    os.makedirs(dirname)\n",
    "except:\n",
    "    pass\n",
    "\n",
    "for i in range(N_theta):\n",
    "    for j in range(N_phi):\n",
    "        for k in range(N_time):\n",
    "            for l in range(N_angle):\n",
    "                initial_angle = (l/N_angle)*2*np.pi\n",
    "\n",
    "                theta   = (i/N_theta)*np.pi\n",
    "                phi     = (j/N_phi)*2*np.pi\n",
    "                t0      = (k/N_time)*(365*86400)\n",
    "\n",
    "                initial_axis = np.array([np.sin(theta)*np.cos(phi), np.sin(theta)*np.sin(phi), np.cos(theta)])\n",
    "\n",
    "                initial_q = np.matrix([sin(initial_angle/2)*initial_axis[0], sin(initial_angle/2)*initial_axis[1],\n",
    "                                      sin(initial_angle/2)*initial_axis[2], cos(initial_angle/2)]).transpose()\n",
    "                \n",
    "                w0 = 0.15*np.random.random(size=3)  #rad/s\n",
    "\n",
    "                initial_position_angle = 0\n",
    "                \n",
    "                df = generate_df(t0, dt, n_iter, w0, initial_q, initial_position_angle)\n",
    "\n",
    "                fname = dirname + \"/df_\" + str(counter) + \".csv\" \n",
    "                df.to_csv(fname)\n",
    "\n",
    "                counter += 1\n",
    "\n",
    "\n",
    "#Create test and validation sets\n",
    "np.random.seed(42)\n",
    "\n",
    "N_val   = int(0.2*N_train)\n",
    "N_test  = int(0.2*N_train)\n",
    "\n",
    "try:\n",
    "    os.makedirs(\"datasets/test_sets\")\n",
    "except:\n",
    "    pass\n",
    "\n",
    "for i in range(N_test):\n",
    "    initial_angle = np.random.random()*2*np.pi\n",
    "    theta   = np.random.random()*np.pi\n",
    "    phi     = np.random.random()*2*np.pi\n",
    "    t0      = np.random.random()*(365*86400)\n",
    "\n",
    "    initial_axis = np.array([np.sin(theta)*np.cos(phi), np.sin(theta)*np.sin(phi), np.cos(theta)])\n",
    "\n",
    "    initial_q = np.matrix([sin(initial_angle/2)*initial_axis[0], sin(initial_angle/2)*initial_axis[1],\n",
    "                                      sin(initial_angle/2)*initial_axis[2], cos(initial_angle/2)]).transpose()\n",
    "                \n",
    "    w0 = 0.15*np.random.random(size=3)  #rad/s\n",
    "\n",
    "    initial_position_angle = 0\n",
    "                \n",
    "    df = generate_df(t0, dt, n_iter, w0, initial_q, initial_position_angle)\n",
    "\n",
    "    fname = \"datasets/test_sets/df_\" + str(i) + \".csv\" \n",
    "    df.to_csv(fname)\n",
    "\n",
    "\n",
    "try:\n",
    "    os.makedirs(\"datasets/val_sets\")\n",
    "except:\n",
    "    pass\n",
    "\n",
    "for i in range(N_val):\n",
    "    initial_angle = np.random.random()*2*np.pi\n",
    "    theta   = np.random.random()*np.pi\n",
    "    phi     = np.random.random()*2*np.pi\n",
    "    t0      = np.random.random()*(365*86400)\n",
    "\n",
    "    initial_axis = np.array([np.sin(theta)*np.cos(phi), np.sin(theta)*np.sin(phi), np.cos(theta)])\n",
    "\n",
    "    initial_q = np.matrix([sin(initial_angle/2)*initial_axis[0], sin(initial_angle/2)*initial_axis[1],\n",
    "                                      sin(initial_angle/2)*initial_axis[2], cos(initial_angle/2)]).transpose()\n",
    "                \n",
    "    w0 = 0.15*np.random.random(size=3)  #rad/s\n",
    "\n",
    "    initial_position_angle = 0\n",
    "                \n",
    "    df = generate_df(t0, dt, n_iter, w0, initial_q, initial_position_angle)\n",
    "\n",
    "    fname = \"datasets/val_sets/df_\" + str(i) + \".csv\" \n",
    "    df.to_csv(fname)\n",
    "\n",
    "\n",
    "\"\"\"creating the test/train/val datasets and saving them\"\"\"\n",
    "path = r\"./datasets/\" + \"/study_datasets\"\n",
    "try:\n",
    "    os.makedirs(path)\n",
    "except:\n",
    "    pass\n",
    "\n",
    "np.random.seed(36)\n",
    "\n",
    "version = \"train_sets\"\n",
    "N_train = 10000\n",
    "N_test = int(0.2*N_train)\n",
    "N_val = int(0.2*N_train)\n",
    "\n",
    "df_train    = pd.DataFrame()\n",
    "df_test     = pd.DataFrame()\n",
    "df_val      = pd.DataFrame()\n",
    "\n",
    "for i in range(N_train):\n",
    "    fname = \"datasets/train_sets/df_\" + str(i) + \".csv\"\n",
    "    df_train = pd.concat([df_train, pd.read_csv(fname)], axis=0)\n",
    "df_train.to_csv(\"datasets/study_datasets/train.csv\")\n",
    "\n",
    "for i in range(N_test):\n",
    "    fname = \"datasets/test_sets/df_\" + str(i) + \".csv\"\n",
    "    df_test = pd.concat([df_test, pd.read_csv(fname)], axis=0)\n",
    "df_test.to_csv(\"datasets/study_datasets/test.csv\")\n",
    "\n",
    "for i in range(N_val):\n",
    "    fname = \"datasets/val_sets/df_\" + str(i) + \".csv\"\n",
    "    df_val = pd.concat([df_val, pd.read_csv(fname)], axis=0)\n",
    "df_val.to_csv(\"datasets/study_datasets/val.csv\")\n",
    "\n",
    "df_train.shape, df_test.shape, df_val.shape"
   ]
  },
  {
   "attachments": {},
   "cell_type": "markdown",
   "metadata": {},
   "source": [
    "#### Multiple dataframe generation"
   ]
  },
  {
   "cell_type": "code",
   "execution_count": 27,
   "metadata": {},
   "outputs": [],
   "source": [
    "def data_generation(N_df = 10, n_iter=600, dt=1, version=0):\n",
    "    path = r\"./datasets/v\" + str(version)\n",
    "    try:\n",
    "        os.makedirs(path)\n",
    "    except:\n",
    "        pass\n",
    "    info = [\"N_df=\" + str(N_df) + \" n_iter=\" + str(n_iter) + \" dt=\" + str(dt)]\n",
    "\n",
    "    for i in range(N_df):\n",
    "        initial_angle = 2*pi*i/N_df  #rad\n",
    "        t0 = np.random.randint(0, 365*86400) #s\n",
    "\n",
    "        rotation_axis = np.matrix(np.random.random(size=3)).transpose()\n",
    "        rotation_axis = rotation_axis/np.linalg.norm(rotation_axis)\n",
    "        initial_rotation_angle = 2*pi*np.random.random()\n",
    "        initial_q = np.concatenate([sin(initial_rotation_angle/2)*rotation_axis, np.matrix([cos(initial_rotation_angle/2)])], axis=0)\n",
    "\n",
    "        #maximum initial rotation rate of 0.15 rad/s ~ 8.6 deg/s\n",
    "        w0 = 0.15*np.random.random(size=3)\n",
    "\n",
    "        df = generate_df(t0, dt, n_iter, w0, initial_q, initial_angle)\n",
    "\n",
    "        fname = \"datasets/\" + \"v\" + str(version) + \"/\" + \"v\" + str(version) + \"_\" + \"df\" + str(i) + \".csv\"\n",
    "        df.to_csv(fname)\n",
    "\n",
    "        info.append(fname + \" : initial_angle=\" + str(initial_angle) + \" t0=\" + str(t0) \n",
    "                    + \" rotation_axis=\" + str(np.array(rotation_axis.transpose()).squeeze()) + \" initial_rotation_angle=\" + str(initial_rotation_angle) \n",
    "                    + \" initial_q=\" + str(np.array(initial_q.transpose()).squeeze()) + \" : w0=\" + str(w0))\n",
    "\n",
    "    with open(\"datasets/v\" + str(version) + \"/\" + \"v\" + str(version) + \"_info.txt\", 'w') as fp:\n",
    "        for item in info:\n",
    "            #write each item on a new line\n",
    "            fp.write(\"%s\\n\" % item)\n",
    "\n",
    "    return 0"
   ]
  },
  {
   "cell_type": "code",
   "execution_count": 28,
   "metadata": {},
   "outputs": [
    {
     "name": "stderr",
     "output_type": "stream",
     "text": [
      "UsageError: Line magic function `%` not found.\n"
     ]
    }
   ],
   "source": [
    "\"\"\"Generation of multiple datasets\"\"\"\n",
    "#1000 datasets of 60 seconds worth of data each\n",
    "%\n",
    "data_generation(N_df = 1000, n_iter=60, dt=1, version=5)"
   ]
  },
  {
   "attachments": {},
   "cell_type": "markdown",
   "metadata": {},
   "source": [
    "#### plot"
   ]
  },
  {
   "cell_type": "code",
   "execution_count": 29,
   "metadata": {},
   "outputs": [],
   "source": [
    "'''earth sphere surface plot'''\n",
    "N = 50\n",
    "phi = np.linspace(0, 2 * np.pi, N)\n",
    "theta = np.linspace(0, np.pi, N)\n",
    "theta, phi = np.meshgrid(theta, phi)\n",
    "\n",
    "r = r_earth\n",
    "X_Earth = r * np.cos(phi) * np.sin(theta)\n",
    "Y_Earth = r * np.sin(phi) * np.sin(theta)\n",
    "Z_Earth = r * np.cos(theta)"
   ]
  },
  {
   "cell_type": "code",
   "execution_count": 30,
   "metadata": {},
   "outputs": [],
   "source": [
    "def animate_data_frame(step, df, B_ORB, F_BODY, lim=2, sat_center=False, draw_earth=False):\n",
    "    #graphics\n",
    "    ax.clear()\n",
    "\n",
    "    #draw earth\n",
    "    if (draw_earth):\n",
    "        ax.plot_surface(X_Earth, Y_Earth, Z_Earth, color='blue', alpha=0.7)\n",
    "\n",
    "    if (not sat_center):\n",
    "        ax.set_xlim3d(-lim, lim)\n",
    "        ax.set_ylim3d(-lim, lim)\n",
    "        ax.set_zlim3d(-lim, lim)\n",
    "    else:\n",
    "        lim = 2\n",
    "        scale = 1\n",
    "        ax.set_xlim3d(x - lim, x + lim)\n",
    "        ax.set_ylim3d(y - lim, y + lim)\n",
    "        ax.set_zlim3d(z - lim, z + lim)\n",
    "\n",
    "    #read data\n",
    "    t = df.iloc[step]['t']\n",
    "\n",
    "    q = np.matrix([df.iloc[step]['q1'], df.iloc[step]['q2'], df.iloc[step]['q3'], df.iloc[step]['q4']]).transpose()\n",
    "\n",
    "    x = df.iloc[step]['x']\n",
    "    y = df.iloc[step]['y']\n",
    "    z = df.iloc[step]['z']\n",
    "\n",
    "    #elapsed time\n",
    "    year = int(t//(365*86400))\n",
    "    day = int((t%(365*86400))//(86400))\n",
    "    hour = int((t%(86400))//(3600))\n",
    "    minute = int((t%3600)//60)\n",
    "    second = int(t%60)\n",
    "\n",
    "    ax.set_title('time = ' + str(year) + \"y \" + str(day) + \"d \" + str(hour) + \"h \" + str(minute) + \"min \" + str(second) + \"s \")\n",
    "    #ax.set_title('time = ' + str(round(step*dt, 2)) + \"s\")\n",
    "    ax.set_xlabel('x')\n",
    "    ax.set_ylabel('y')\n",
    "    ax.set_zlabel('z')\n",
    "\n",
    "    scale = lim/5\n",
    "\n",
    "    #draw satellite's body frame\n",
    "    #sat_frame_update(step, dt, x, y, z, scale=scale)\n",
    "    P_I_body = q_to_R(q)[0:3, 0:3]\n",
    "\n",
    "    P_ORB_I = P_I_ORB_f(t).transpose()\n",
    "\n",
    "    u = scale*P_ORB_I*P_I_body[:, 0]\n",
    "    v = scale*P_ORB_I*P_I_body[:, 1]\n",
    "    w = scale*P_ORB_I*P_I_body[:, 2]\n",
    "\n",
    "    ax.quiver(x, y, z, u[0], u[1], u[2], color=\"blue\")\n",
    "    ax.quiver(x, y, z, v[0], v[1], v[2], color=\"blue\")\n",
    "    ax.quiver(x, y, z, w[0], w[1], w[2], color=\"purple\")\n",
    "\n",
    "    #draw the magnetic field vector\n",
    "    mag = B_ORB[step]\n",
    "    ax.quiver(x,y,z, scale*mag[0], scale*mag[1], scale*mag[2], color=\"red\")\n",
    "\n",
    "    #draw the nadir direction\n",
    "    n_I_x, n_I_y, n_I_z = df.iloc[step][[\"n_I_x\", \"n_I_y\", \"n_I_z\"]]\n",
    "    n_ORB = P_ORB_I*np.matrix([n_I_x, n_I_y, n_I_z]).transpose()\n",
    "    n_ORB = scale*n_ORB/np.linalg.norm(n_ORB)\n",
    "    ax.quiver(x, y, z, n_ORB[0], n_ORB[1], n_ORB[2], color=\"black\")\n",
    "\n",
    "    #draw the sun LOS\n",
    "    s_I_x, s_I_y, s_I_z = df.iloc[step][[\"s_I_x\", \"s_I_y\", \"s_I_z\"]]\n",
    "    s_ORB = scale*P_ORB_I*np.matrix([s_I_x, s_I_y, s_I_z]).transpose()\n",
    "    ax.quiver(x, y, z, s_ORB[0], s_ORB[1], s_ORB[2], color=\"yellow\")\n",
    "    \n",
    "    #draw magnetic moment\n",
    "    m = P_ORB_MAG_f(time=t)[0:3, 2]\n",
    "    m = m/np.linalg.norm(m)\n",
    "    mag_scale = r_earth\n",
    "    #ax.quiver(-mag_scale*m[0], -mag_scale*m[1], -mag_scale*m[2], mag_scale*m[0], mag_scale*m[1], mag_scale*m[2], length=2*mag_scale, color=\"black\")\n",
    "    ax.quiver(-mag_scale*m[0], -mag_scale*m[1], -mag_scale*m[2], m[0], m[1], m[2], length=2*mag_scale, color=\"black\")\n",
    "\n",
    "    #draw photodiode sensor measurement normalized vector\n",
    "    for i in range(6):\n",
    "        v_body = np.matrix(F_BODY[step, :, i]).transpose()\n",
    "        v_ORB  = P_I_ORB_f(time=t).transpose()@P_I_body@v_body\n",
    "        ax.quiver(x, y, z, 5*scale*v_ORB[0], 5*scale*v_ORB[1],5*scale*v_ORB[2], color=\"green\", linewidth=2)\n",
    "    \n",
    "    #draw satellite center\n",
    "    ax.scatter3D(x, y, z, c=\"black\")"
   ]
  },
  {
   "cell_type": "code",
   "execution_count": 31,
   "metadata": {},
   "outputs": [],
   "source": [
    "def B_ORB_f(df):\n",
    "    \"\"\"\n",
    "    calculates the magnetic field vector direction in the orbital frame, at each step, sensed by the magnetometer measurements\n",
    "    \"\"\"\n",
    "    B = df.apply(lambda row: \n",
    "                row[['mag_x', 'mag_y', 'mag_z']]/np.linalg.norm(row[['mag_x', 'mag_y', 'mag_z']]),\n",
    "                axis=1).values\n",
    "    B_ORB = np.zeros(B.shape)\n",
    "\n",
    "    q_values = df[['q1', 'q2', 'q3', 'q4']].values\n",
    "    time = df['t'].values\n",
    "    for i in range(len(df)):\n",
    "        q = q_values[i]\n",
    "        t = time[i]\n",
    "        P = P_I_ORB_f(time=t)\n",
    "        b = B[i]\n",
    "        B_ORB[i] = P.transpose()@q_to_R(q)[0:3, 0:3]@b\n",
    "    \n",
    "    return B_ORB\n",
    "\n",
    "def F_BODY_f(df, light_sensor):\n",
    "    \"\"\"\n",
    "    calculates the normalized light flux on each of the satellite's faces at each step\n",
    "    \"\"\"\n",
    "    F = df.apply(lambda row: \n",
    "                row[[light_sensor + '_px', light_sensor + '_mx', light_sensor + '_py', light_sensor + '_my', light_sensor + '_pz', light_sensor + '_mz']]/np.linalg.norm(row[[light_sensor + '_px', light_sensor + '_mx', light_sensor + '_py', light_sensor + '_my', light_sensor + '_pz', light_sensor + '_mz']]),\n",
    "                axis=1).values\n",
    "    F = np.nan_to_num(F)\n",
    "    #F_df = pd.DataFrame(F, columns=['CNT_px', 'CNT_mx', 'CNT_py', 'CNT_my', 'CNT_pz', 'CNT_mz'])\n",
    "\n",
    "    F_BODY = np.zeros(shape=(len(F), 3, 6))\n",
    "    for i in range(len(F)):\n",
    "        f = F[i]\n",
    "\n",
    "        F_BODY[i][0,0] =  f[0]\n",
    "        F_BODY[i][0,1] = -f[1]\n",
    "        F_BODY[i][1,2] =  f[2]\n",
    "        F_BODY[i][1,3] = -f[3]\n",
    "        F_BODY[i][2,4] =  f[4]\n",
    "        F_BODY[i][2,5] = -f[5]\n",
    "\n",
    "    return F_BODY"
   ]
  },
  {
   "attachments": {},
   "cell_type": "markdown",
   "metadata": {},
   "source": [
    "##### read df"
   ]
  },
  {
   "cell_type": "code",
   "execution_count": 32,
   "metadata": {},
   "outputs": [],
   "source": [
    "fname = \"datasets\\df1_t0=5256000_n=30_dt=1_w0=[0, 0.1, 0.1]initial_angle=3.141592653589793.csv\"\n",
    "df = pd.read_csv(fname)"
   ]
  },
  {
   "cell_type": "markdown",
   "metadata": {},
   "source": [
    "##### Draw"
   ]
  },
  {
   "cell_type": "code",
   "execution_count": 33,
   "metadata": {},
   "outputs": [],
   "source": [
    "\"\"\"Draw sensors\"\"\"\n",
    "B_ORB = B_ORB_f(df)\n",
    "\n",
    "#Choose between CNT, P and OSR sensors\n",
    "F_BODY = F_BODY_f(df, light_sensor=\"P\")"
   ]
  },
  {
   "cell_type": "markdown",
   "metadata": {},
   "source": [
    "Here is an example of the generated data. The blue arrows represent the frame attached to the satellite's body. The red arrow points towards the magnetic moment of Earth while the yellow points towards the Sun. The green arrows represent the different fluxes received on each face of the satellite (they are normalized)."
   ]
  },
  {
   "cell_type": "code",
   "execution_count": 34,
   "metadata": {},
   "outputs": [],
   "source": [
    "%matplotlib qt\n",
    "fig = plt.figure()\n",
    "ax = plt.axes(projection='3d')\n",
    "anim = animation.FuncAnimation(fig, lambda step: animate_data_frame(step, df, B_ORB, F_BODY, lim=7000000, draw_earth=True), interval=10, frames=len(df))\n",
    "plt.show()"
   ]
  },
  {
   "cell_type": "markdown",
   "metadata": {},
   "source": [
    "##### Save animation"
   ]
  },
  {
   "cell_type": "code",
   "execution_count": 35,
   "metadata": {},
   "outputs": [
    {
     "name": "stderr",
     "output_type": "stream",
     "text": [
      "UsageError: Line magic function `%` not found.\n"
     ]
    }
   ],
   "source": [
    "#Saving the Animation as gif\n",
    "%\n",
    "f = r\"videos/animation.gif\"\n",
    "writergif = animation.PillowWriter(fps=int(1/dt))\n",
    "anim.save(f, writer=writergif)"
   ]
  },
  {
   "cell_type": "code",
   "execution_count": 36,
   "metadata": {},
   "outputs": [
    {
     "name": "stderr",
     "output_type": "stream",
     "text": [
      "UsageError: Line magic function `%` not found.\n"
     ]
    }
   ],
   "source": [
    "#Saving the Animation as mp4\n",
    "%\n",
    "import matplotlib as mpl \n",
    "mpl.rcParams['animation.ffmpeg_path'] = r'C:/ProgramData/ffmpeg/bin/ffmpeg.exe'\n",
    "\n",
    "f = r\"videos/animation.mp4\" \n",
    "writervideo = animation.FFMpegWriter(fps=10) \n",
    "anim.save(f, writer=writervideo)"
   ]
  },
  {
   "attachments": {},
   "cell_type": "markdown",
   "metadata": {},
   "source": [
    "## Attitude estimation"
   ]
  },
  {
   "attachments": {},
   "cell_type": "markdown",
   "metadata": {},
   "source": [
    "### Triad method"
   ]
  },
  {
   "cell_type": "code",
   "execution_count": 37,
   "metadata": {},
   "outputs": [],
   "source": [
    "\"\"\"Uses Triad method to estimate the attitude of the satellite\"\"\"\n",
    "def vector_direction(row, vector, threshold=1.5):\n",
    "    \"\"\"\n",
    "    Returns the estimated normalized vector's direction in the body frame of reference\n",
    "    \"\"\"\n",
    "    ux = np.matrix([1,0,0]).transpose()\n",
    "    uy = np.matrix([0,1,0]).transpose()\n",
    "    uz = np.matrix([0,0,1]).transpose()\n",
    "\n",
    "    vector_list = [ux, uy, uz]\n",
    "\n",
    "    if (vector==\"sun\"):\n",
    "        sensor=\"P\"\n",
    "    elif (vector==\"nadir\"):\n",
    "        sensor=\"OSR\"\n",
    "    else:\n",
    "        print(\"error\")\n",
    "        return 1\n",
    "    \n",
    "    P = row[[sensor + \"_px\", sensor + \"_py\", sensor + \"_pz\"]]\n",
    "    M = row[[sensor + \"_mx\", sensor + \"_my\", sensor + \"_mz\"]]\n",
    "\n",
    "    vector_direction = np.matrix([0,0,0]).transpose()\n",
    "    for i in range(len(P)):\n",
    "        if P.iloc[i] > threshold*M.iloc[i]:\n",
    "            vector_direction = vector_direction + P.iloc[i]*vector_list[i]\n",
    "        elif M.iloc[i] > threshold*P.iloc[i]:\n",
    "            vector_direction = vector_direction - M.iloc[i]*vector_list[i]\n",
    "        else:\n",
    "            vector_direction = vector_direction + (P.iloc[i] - M.iloc[i])*vector_list[i]\n",
    "    \n",
    "    vector_direction = vector_direction/np.linalg.norm(vector_direction)\n",
    "\n",
    "    return vector_direction\n",
    "\n",
    "\n",
    "def triad(row, threshold=1.5, sigma_u=sigma_u, sigma_v=sigma_v):\n",
    "    \"\"\"\n",
    "    Returns the estimated attitude, computed using the sensor measurements \n",
    "    \"\"\"\n",
    "    x,y,z = row.x, row.y, row.z\n",
    "\n",
    "    P_I_ORB = P_I_ORB_f(row.t)\n",
    "\n",
    "    if (x>=0 and (abs(z)<=r_earth)):\n",
    "        vector_BODY = vector_direction(row, vector=\"nadir\", threshold=threshold)\n",
    "        #vector_I = -r_I/np.linalg.norm(r_I)\n",
    "        vector_I = np.matrix(row[[\"n_I_x\", \"n_I_y\", \"n_I_z\"]]).transpose()\n",
    "    else:\n",
    "        vector_BODY = vector_direction(row, vector=\"sun\", threshold=threshold)\n",
    "        #vector_I = P_I_ORB@np.matrix([-1,0,0]).transpose()\n",
    "        vector_I = np.matrix(row[[\"s_I_x\", \"s_I_y\", \"s_I_z\"]]).transpose()\n",
    "    \n",
    "    mag_BODY = np.matrix(row[[\"mag_x\", \"mag_y\", \"mag_z\"]]).transpose()\n",
    "    mag_I = np.matrix(row[[\"B_I_x\", \"B_I_y\", \"B_I_z\"]]).transpose()\n",
    "\n",
    "    #normalization\n",
    "    mag_BODY = mag_BODY/np.linalg.norm(mag_BODY)\n",
    "    mag_I = mag_I/np.linalg.norm(mag_I)\n",
    "\n",
    "    #Triad algorithm, starting with sun/nadir vector\n",
    "    t_1_I = vector_I\n",
    "    t_2_I = np.cross(vector_I, mag_I, axis=0)/np.linalg.norm(np.cross(vector_I, mag_I, axis=0))\n",
    "    t_3_I = np.cross(t_1_I, t_2_I, axis=0)\n",
    "\n",
    "    t_1_B = vector_BODY\n",
    "    t_2_B = np.cross(vector_BODY, mag_BODY, axis=0)/np.linalg.norm(np.cross(vector_BODY, mag_BODY, axis=0))\n",
    "    t_3_B = np.cross(t_1_B, t_2_B, axis=0)\n",
    "\n",
    "    P_I_TRIAD_1 = np.concatenate([t_1_I, t_2_I, t_3_I], axis=1)\n",
    "    P_BODY_TRIAD_1 = np.concatenate([t_1_B, t_2_B, t_3_B], axis=1)\n",
    "    P_I_BODY_1 = P_I_TRIAD_1@P_BODY_TRIAD_1.transpose()\n",
    "    \n",
    "    #Triad algorithm, starting with magnetic vector\n",
    "    t_1_I_m = mag_I\n",
    "    t_2_I_m = np.cross(mag_I, vector_I, axis=0)/np.linalg.norm(np.cross(mag_I, vector_I, axis=0))\n",
    "    t_3_I_m = np.cross(t_1_I_m, t_2_I_m, axis=0)\n",
    "\n",
    "    t_1_B_m = mag_BODY\n",
    "    t_2_B_m = np.cross(mag_BODY, vector_BODY, axis=0)/np.linalg.norm(np.cross(mag_BODY, vector_BODY, axis=0))\n",
    "    t_3_B_m = np.cross(t_1_B_m, t_2_B_m, axis=0)\n",
    "\n",
    "    P_I_TRIAD_m = np.concatenate([t_1_I_m, t_2_I_m, t_3_I_m], axis=1)\n",
    "    P_BODY_TRIAD_m = np.concatenate([t_1_B_m, t_2_B_m, t_3_B_m], axis=1)\n",
    "    P_I_BODY_m = P_I_TRIAD_m@P_BODY_TRIAD_m.transpose()\n",
    "\n",
    "    #Fusion of the two results\n",
    "    sigma_1 = 1\n",
    "    sigma_m = 5\n",
    "\n",
    "    A_star = (sigma_1**2/(sigma_1**2 + sigma_m**2))*P_I_BODY_1 + (sigma_m**2/(sigma_1**2 + sigma_m**2))*P_I_BODY_m\n",
    "    estimated_attitude = (1/2)*(A_star + np.linalg.inv(A_star).transpose())\n",
    "\n",
    "    return estimated_attitude"
   ]
  },
  {
   "cell_type": "code",
   "execution_count": 38,
   "metadata": {},
   "outputs": [],
   "source": [
    "def mean_angle_error(q_df):\n",
    "    \"\"\"\n",
    "    Computes the mean angle error for a dataframe containing the real quaternion q and\n",
    "    q_hat, an estimation of q\n",
    "    \"\"\"\n",
    "    error_sum  = 0\n",
    "    for i in range(len(q_df)):\n",
    "        q_hat   = np.matrix(q_df.loc[i][['q_hat1', 'q_hat2', 'q_hat3', 'q_hat4']]).transpose()\n",
    "        q       = np.matrix(q_df.loc[i][['q1', 'q2', 'q3', 'q4']]).transpose()\n",
    "        R_hat = q_to_R(q_hat)[0:3,0:3]\n",
    "        R = q_to_R(q)[0:3,0:3]\n",
    "\n",
    "        #R_hat = triad(row, threshold)\n",
    "\n",
    "        barBB = R_hat.transpose()@R\n",
    "        #print(barBB)\n",
    "        error_phi = acos(0.5*(np.trace(barBB) - 1))*180/pi\n",
    "        error_sum += error_phi\n",
    "    return(error_sum/len(q_df))\n",
    "\n",
    "def mean_triad_angle_error(df):\n",
    "    \"\"\"\n",
    "    Returns the mean angle error for a dataframe for the quaternion estimated with\n",
    "    the TRIAD method\n",
    "    \"\"\"\n",
    "    q_df = pd.DataFrame(columns = ['q1', 'q2', 'q3', 'q4', 'q_hat1', 'q_hat2', 'q_hat3', 'q_hat4'])\n",
    "    threshold = 1.5\n",
    "    for i in range(len(df)):\n",
    "        row = df.iloc[i]\n",
    "        q_hat = np.array(R_to_q(triad(row, threshold, sigma_u, sigma_v)).transpose()).squeeze()\n",
    "        q_hat = q_hat/np.linalg.norm(q_hat)\n",
    "        q = np.array([row.q1, row.q2, row.q3, row.q4])\n",
    "\n",
    "        q_df.loc[i] = np.concatenate([q, q_hat], axis=0)\n",
    "\n",
    "    return(mean_angle_error(q_df))\n",
    "\n",
    "def angle_error_std(q_df):\n",
    "    \"\"\"\n",
    "    Computes the std angle error for a dataframe containing the real quaternion q and\n",
    "    q_hat, an estimation of q\n",
    "    \"\"\"\n",
    "    error_list = np.zeros(len(q_df))\n",
    "    for i in range(len(q_df)):\n",
    "        q_hat   = np.matrix(q_df.loc[i][['q_hat1', 'q_hat2', 'q_hat3', 'q_hat4']]).transpose()\n",
    "        q       = np.matrix(q_df.loc[i][['q1', 'q2', 'q3', 'q4']]).transpose()\n",
    "        R_hat = q_to_R(q_hat)[0:3,0:3]\n",
    "        R = q_to_R(q)[0:3,0:3]\n",
    "\n",
    "        #R_hat = triad(row, threshold)\n",
    "\n",
    "        barBB = R_hat.transpose()@R\n",
    "        #print(barBB)\n",
    "        error_phi = acos(0.5*(np.trace(barBB) - 1))*180/pi\n",
    "        error_list[i] = error_phi\n",
    "    return(np.std(error_list))\n",
    "\n",
    "def triad_angle_error_std(df):\n",
    "    \"\"\"\n",
    "    Returns the std angle error for a dataframe for the quaternion estimated with\n",
    "    the TRIAD method\n",
    "    \"\"\"\n",
    "    q_df = pd.DataFrame(columns = ['q1', 'q2', 'q3', 'q4', 'q_hat1', 'q_hat2', 'q_hat3', 'q_hat4'])\n",
    "    threshold = 1.5\n",
    "    for i in range(len(df)):\n",
    "        row = df.iloc[i]\n",
    "        q_hat = np.array(R_to_q(triad(row, threshold, sigma_u, sigma_v)).transpose()).squeeze()\n",
    "        q_hat = q_hat/np.linalg.norm(q_hat)\n",
    "        q = np.array([row.q1, row.q2, row.q3, row.q4])\n",
    "\n",
    "        q_df.loc[i] = np.concatenate([q, q_hat], axis=0)\n",
    "\n",
    "    return(angle_error_std(q_df))"
   ]
  },
  {
   "cell_type": "markdown",
   "metadata": {},
   "source": [
    "### MLP"
   ]
  },
  {
   "cell_type": "code",
   "execution_count": 39,
   "metadata": {},
   "outputs": [],
   "source": [
    "import matplotlib.pyplot as plt\n",
    "import numpy as np\n",
    "import pandas as pd\n",
    "import torch\n",
    "import torch.nn as nn\n",
    "import torch.optim as optim\n",
    "from sklearn.model_selection import train_test_split\n",
    "from sklearn.preprocessing import StandardScaler\n",
    "import tqdm\n",
    "import copy"
   ]
  },
  {
   "cell_type": "code",
   "execution_count": 40,
   "metadata": {},
   "outputs": [
    {
     "name": "stdout",
     "output_type": "stream",
     "text": [
      "Using cuda device\n",
      "Cuda device: NVIDIA GeForce RTX 4070\n"
     ]
    }
   ],
   "source": [
    "device = \"cuda\" if torch.cuda.is_available() else \"cpu\"\n",
    "print(f\"Using {device} device\")\n",
    "if torch.cuda.is_available(): print(f\"Cuda device: {torch.cuda.get_device_name(torch.cuda.current_device())}\")"
   ]
  },
  {
   "cell_type": "code",
   "execution_count": 88,
   "metadata": {},
   "outputs": [
    {
     "data": {
      "text/plain": [
       "((600000, 49), (120000, 49), (120000, 49))"
      ]
     },
     "execution_count": 88,
     "metadata": {},
     "output_type": "execute_result"
    }
   ],
   "source": [
    "\"\"\"reading the datasets\"\"\"\n",
    "df_train_raw    = pd.read_csv(\"datasets/study_datasets/train.csv\")\n",
    "df_test_raw     = pd.read_csv(\"datasets/study_datasets/test.csv\")\n",
    "df_val_raw      = pd.read_csv(\"datasets/study_datasets/val.csv\")\n",
    "\n",
    "df_train_raw.shape, df_test_raw.shape, df_val_raw.shape"
   ]
  },
  {
   "cell_type": "code",
   "execution_count": 89,
   "metadata": {},
   "outputs": [],
   "source": [
    "#df_train = df_train_raw.iloc[0:200000, :]\n",
    "df_train = df_train_raw\n",
    "df_test  = df_test_raw\n",
    "df_val   = df_val_raw"
   ]
  },
  {
   "cell_type": "code",
   "execution_count": 90,
   "metadata": {},
   "outputs": [],
   "source": [
    "\"\"\"Defining the input features and the output\"\"\"\n",
    "X_columns = ['x', 'z', 'mag_x', 'mag_y', 'mag_z', 'B_I_x', 'B_I_y', 'B_I_z',\n",
    "             's_I_x', 's_I_y', 'n_I_x', 'n_I_y', 'n_I_z', 'CNT_px', 'CNT_mx', 'CNT_py',\n",
    "             'CNT_my', 'CNT_pz', 'CNT_mz', 'OSR_px', 'OSR_mx', 'OSR_py', 'OSR_my', 'OSR_pz',\n",
    "             'OSR_mz', 'P_px', 'P_mx', 'P_py', 'P_my', 'P_pz', 'P_mz', 'gyro_x', 'gyro_y', 'gyro_z']\n",
    "Y_columns = ['q1', 'q2', 'q3', 'q4']"
   ]
  },
  {
   "cell_type": "code",
   "execution_count": 91,
   "metadata": {},
   "outputs": [],
   "source": [
    "\"\"\"shuffling the datasets, scaling them and converting them to tensors\"\"\"\n",
    "X_train_raw = df_train[X_columns].values\n",
    "X_test_raw  = df_test[X_columns].values\n",
    "X_val_raw   = df_val[X_columns].values\n",
    "\n",
    "y_train_np  = df_train[Y_columns].values\n",
    "y_test_np   = df_test[Y_columns].values\n",
    "y_val_np    = df_val[Y_columns].values\n",
    "\n",
    "#Standardizing data\n",
    "scaler  = StandardScaler()\n",
    "scaler.fit(X_train_raw)\n",
    "\n",
    "X_train_np = scaler.transform(X_train_raw)\n",
    "X_test_np  = scaler.transform(X_test_raw)\n",
    "X_val_np   = scaler.transform(X_val_raw)\n",
    "\n",
    "#Shuffling the training data\n",
    "seed = 10\n",
    "\n",
    "np.random.seed(seed)\n",
    "np.random.shuffle(X_train_np)\n",
    "np.random.shuffle(X_test_np)\n",
    "np.random.shuffle(X_val_np)\n",
    "\n",
    "np.random.seed(seed)\n",
    "np.random.shuffle(y_train_np)\n",
    "np.random.shuffle(y_test_np)\n",
    "np.random.shuffle(y_val_np)\n",
    "\n",
    "#Convert to 2D PyTorch tensors and send them to the GPU if compatible\n",
    "X_train = torch.tensor(X_train_np, dtype=torch.float32).to(device)\n",
    "y_train = torch.tensor(y_train_np, dtype=torch.float32).to(device)\n",
    "X_test  = torch.tensor(X_test_np, dtype=torch.float32).to(device)\n",
    "y_test  = torch.tensor(y_test_np, dtype=torch.float32).to(device)\n",
    "X_val   = torch.tensor(X_val_np, dtype=torch.float32).to(device)\n",
    "y_val   = torch.tensor(y_val_np, dtype=torch.float32).to(device)\n",
    "\n",
    "input_size  = X_train.shape[1]\n",
    "output_size = y_train.shape[1]"
   ]
  },
  {
   "cell_type": "code",
   "execution_count": 92,
   "metadata": {},
   "outputs": [],
   "source": [
    "def my_new_loss(output, target):\n",
    "    \"\"\"\n",
    "    Adapted Geodesic loss\n",
    "    \"\"\"\n",
    "    beta = 0.1\n",
    "\n",
    "    out_normalized = output/torch.sqrt(torch.sum(output*output, dim=1))[:, None]\n",
    "\n",
    "    loss = 1 - torch.sum(out_normalized*target, dim=1)**2\n",
    "    penalty = beta*(1 - torch.sum(output*output, dim=1))**2\n",
    "    loss = torch.mean(loss + penalty)\n",
    "    return (loss)"
   ]
  },
  {
   "cell_type": "code",
   "execution_count": 93,
   "metadata": {},
   "outputs": [],
   "source": [
    "def geodesic_error(q, p):\n",
    "    \"\"\"\n",
    "    Returns the std geodesic error between the two sequences of quaternions q and p\n",
    "    \"\"\"\n",
    "    expanded_norm_q = torch.sqrt(torch.sum(q*q, axis=1).reshape(len(q), 1).expand(len(q), 4))\n",
    "    expanded_norm_p = torch.sqrt(torch.sum(p*p, axis=1).reshape(len(p), 1).expand(len(p), 4))\n",
    "\n",
    "    q_normalized = q/expanded_norm_q\n",
    "    p_normalized = p/expanded_norm_p\n",
    "\n",
    "    square_scalar_product = torch.sum(q_normalized*p_normalized, axis=1)**2\n",
    "\n",
    "    geodesic_error = torch.arccos(2*square_scalar_product - 1)*180/torch.pi\n",
    "\n",
    "    #plot histogram\n",
    "    mu, std = scipy.stats.norm.fit(geodesic_error.cpu().detach().numpy()) \n",
    "    plt.hist(geodesic_error.cpu().detach().numpy(), color=\"b\")\n",
    "    xmin, xmax = plt.xlim()\n",
    "    x = np.linspace(xmin, xmax, 100)\n",
    "    p = scipy.stats.norm.pdf(x, mu, std)\n",
    "\n",
    "    plt.plot(x, p, 'k', linewidth=2)\n",
    "    plt.title(\"$\\mu$={:.2f} ;  $\\sigma$={:.2f}\".format(mu, std))\n",
    "\n",
    "    plt.xlabel(\"error\"), plt.ylabel(\"frequency\")\n",
    "\n",
    "    geodesic_error_std = torch.std(geodesic_error)\n",
    "    return(geodesic_error_std)"
   ]
  },
  {
   "cell_type": "markdown",
   "metadata": {},
   "source": [
    "### Hyperparameter Tuning"
   ]
  },
  {
   "cell_type": "code",
   "execution_count": 94,
   "metadata": {},
   "outputs": [],
   "source": [
    "def create_model(input_size, output_size, hidden_layer_sizes, activation, device):\n",
    "    layers = []\n",
    "    prev_size = input_size\n",
    "    for size in hidden_layer_sizes:\n",
    "        layers.append(nn.Linear(prev_size, size))\n",
    "        layers.append(activation)\n",
    "        prev_size = size\n",
    "    layers.append(nn.Linear(prev_size, output_size))\n",
    "    model = nn.Sequential(*layers).to(device)\n",
    "    return model"
   ]
  },
  {
   "cell_type": "code",
   "execution_count": 95,
   "metadata": {},
   "outputs": [],
   "source": [
    "def train(model, X_train, X_test, y_train, y_test, lr=0.001, batch_size= 64, n_epochs=50, loss_fn=nn.MSELoss(), disb=True):    \n",
    "    optimizer = optim.Adam(model.parameters(), lr=lr) \n",
    "\n",
    "    batch_start = torch.arange(0, len(X_train), batch_size)\n",
    "\n",
    "    #Hold the best model\n",
    "    best_error = float(loss_fn(model(X_test), y_test))\n",
    "    best_weights = None\n",
    "\n",
    "    for epoch in range(n_epochs):\n",
    "        model.train()\n",
    "        with tqdm.tqdm(batch_start, unit=\"batch\", mininterval=0, disable=disb) as bar:\n",
    "            bar.set_description(f\"Epoch {epoch}\")\n",
    "            for start in bar:\n",
    "                #take a batch\n",
    "                X_batch = X_train[start:start+batch_size]\n",
    "                y_batch = y_train[start:start+batch_size]\n",
    "                #forward pass\n",
    "                y_pred = model(X_batch)\n",
    "                loss = loss_fn(y_pred, y_batch)\n",
    "                #backward pass\n",
    "                optimizer.zero_grad()\n",
    "                loss.backward()\n",
    "                #update weights\n",
    "                optimizer.step()\n",
    "                #print progress\n",
    "                bar.set_postfix(error=float(loss))\n",
    "        #evaluate accuracy at end of each epoch\n",
    "        model.eval()\n",
    "        #generalisation error\n",
    "        y_pred = model(X_test)\n",
    "        generalisation_error = float(loss_fn(y_pred, y_test))\n",
    "        if generalisation_error < best_error:\n",
    "            best_error = generalisation_error\n",
    "            best_weights = copy.deepcopy(model.state_dict())\n",
    "\n",
    "    #restore model and return best accuracy\n",
    "    model.load_state_dict(best_weights)\n",
    "\n",
    "    return 0"
   ]
  },
  {
   "cell_type": "code",
   "execution_count": 96,
   "metadata": {},
   "outputs": [],
   "source": [
    "\"\"\"Define the function to optimize the hyperparameters\"\"\"\n",
    "def optimize_hyperparameters(loss_fn, X_train, y_train, X_test, y_test, X_val, y_val, param_dist, device=device):\n",
    "    \"\"\"\n",
    "    Searches for the best hyperparameters, using a gridsearch approach\n",
    "    \"\"\"\n",
    "    best_validation_error = np.inf\n",
    "    best_hyperparameters  = None\n",
    "\n",
    "    input_size  = X_train.shape[1]\n",
    "    output_size = y_train.shape[1]\n",
    "\n",
    "    hyperparameter_grid = [(hidden_layer_sizes, activation, lr, batch_size, n_epochs)\n",
    "                       for hidden_layer_sizes   in param_dist[\"hidden_layer_sizes\"]\n",
    "                       for activation           in param_dist[\"activation\"]\n",
    "                       for lr                   in param_dist[\"lr\"]\n",
    "                       for batch_size           in param_dist[\"batch_size\"]\n",
    "                       for n_epochs             in param_dist[\"n_epochs\"]]\n",
    "\n",
    "    n_total = len(hyperparameter_grid)\n",
    "    counter = 1\n",
    "\n",
    "    for hidden_layer_sizes, activation, lr, batch_size, n_epochs in hyperparameter_grid:\n",
    "        torch.manual_seed(27)\n",
    "\n",
    "        print(f\"\\nstep: {counter}/{n_total}\")\n",
    "        print(f\"hidden_layer_sizes: {hidden_layer_sizes}, activation:{activation}, lr{lr}, batch_size:{batch_size}, n_epochs:{n_epochs}\")\n",
    "\n",
    "        model = create_model(input_size, output_size, hidden_layer_sizes, activation, device=device)\n",
    "        train(model, X_train, X_test, y_train, y_test, lr, batch_size, n_epochs, loss_fn)\n",
    "\n",
    "        #Evaluate the best model on validation data\n",
    "        y_pred = model(X_test)\n",
    "        test_mse = loss_fn(y_test, y_pred)\n",
    "\n",
    "        if (test_mse < best_validation_error):\n",
    "            best_hyperparameters = [hidden_layer_sizes, activation, lr, batch_size, n_epochs]\n",
    "            best_weights = copy.deepcopy(model.state_dict())\n",
    "            best_validation_error = test_mse\n",
    "\n",
    "        training_error  = loss_fn(model(X_train), y_train)\n",
    "        test_error      = loss_fn(model(X_test), y_test)\n",
    "        val_error       = loss_fn(model(X_val), y_val)\n",
    "\n",
    "        print(f\"training error: {training_error} , test error: {test_error} , val error: {val_error}\")\n",
    "        counter += 1\n",
    "    \n",
    "    best_model = create_model(input_size, output_size, best_hyperparameters[0], best_hyperparameters[1], device=device)\n",
    "    return best_hyperparameters, best_model"
   ]
  },
  {
   "cell_type": "code",
   "execution_count": 97,
   "metadata": {},
   "outputs": [
    {
     "name": "stderr",
     "output_type": "stream",
     "text": [
      "UsageError: Line magic function `%` not found.\n"
     ]
    }
   ],
   "source": [
    "%\n",
    "#Define the hyperparameter search space\n",
    "hidden_layer_sizes = [[i,j,k] for k in range(20, 50, 5) for j in range(50, 100, 5) for i in range(200, 300, 10)]\n",
    "#removing 0\n",
    "for i in range(len(hidden_layer_sizes)):\n",
    "    hidden_layer_sizes[i] = [i for i in hidden_layer_sizes[i] if i!=0]\n",
    "\n",
    "param_dist = {\n",
    "    'hidden_layer_sizes': hidden_layer_sizes,\n",
    "    'activation': [nn.ReLU(), nn.Sigmoid()],  #Try different activation functions\n",
    "    'lr': [0.01],\n",
    "    'batch_size': [5000],\n",
    "    'n_epochs': [75],\n",
    "}\n",
    "loss_fn = my_new_loss\n",
    "\n",
    "#Perform the hyperparameter search\n",
    "best_parameters, best_model = optimize_hyperparameters(loss_fn, X_train, y_train, X_test, y_test, X_val, y_val, param_dist)\n",
    "\n",
    "#Evaluate the best model on test data\n",
    "training_error  = float(loss_fn(model(X_train), y_train))\n",
    "test_error      = float(loss_fn(model(X_test), y_test))\n",
    "val_error       = float(loss_fn(model(X_val), y_pred))\n",
    "\n",
    "print(f\"Best Hyperparameters: {best_parameters}\")\n",
    "print(f\"Training error:     {training_error},   Geodesic train error: {geodesic_error(model(X_train), y_train)}\")\n",
    "print(f\"Test error:         {test_error},       Geodesic test error: {geodesic_error(model(X_test), y_test)}\")\n",
    "print(f\"Validation error:   {val_error},        Geodesic validation error: {geodesic_error(model(X_val), y_val)}\")"
   ]
  },
  {
   "cell_type": "markdown",
   "metadata": {},
   "source": [
    "### Plotting"
   ]
  },
  {
   "cell_type": "code",
   "execution_count": 98,
   "metadata": {},
   "outputs": [
    {
     "name": "stderr",
     "output_type": "stream",
     "text": [
      "Epoch 0: 100%|██████████| 1200/1200 [00:05<00:00, 238.94batch/s, error=0.199]\n",
      "Epoch 1: 100%|██████████| 1200/1200 [00:04<00:00, 246.52batch/s, error=0.156]\n",
      "Epoch 2: 100%|██████████| 1200/1200 [00:04<00:00, 246.58batch/s, error=0.144]\n",
      "Epoch 3: 100%|██████████| 1200/1200 [00:04<00:00, 245.72batch/s, error=0.126]\n",
      "Epoch 4: 100%|██████████| 1200/1200 [00:04<00:00, 243.81batch/s, error=0.093] \n",
      "Epoch 5: 100%|██████████| 1200/1200 [00:04<00:00, 246.25batch/s, error=0.0747]\n",
      "Epoch 6: 100%|██████████| 1200/1200 [00:05<00:00, 237.47batch/s, error=0.0595]\n",
      "Epoch 7: 100%|██████████| 1200/1200 [00:04<00:00, 240.85batch/s, error=0.0505]\n",
      "Epoch 8: 100%|██████████| 1200/1200 [00:04<00:00, 246.52batch/s, error=0.0454]\n",
      "Epoch 9: 100%|██████████| 1200/1200 [00:04<00:00, 250.92batch/s, error=0.0456]\n",
      "Epoch 10: 100%|██████████| 1200/1200 [00:04<00:00, 247.46batch/s, error=0.0446]\n",
      "Epoch 11: 100%|██████████| 1200/1200 [00:04<00:00, 245.20batch/s, error=0.041] \n",
      "Epoch 12: 100%|██████████| 1200/1200 [00:04<00:00, 243.19batch/s, error=0.0369]\n",
      "Epoch 13: 100%|██████████| 1200/1200 [00:04<00:00, 244.10batch/s, error=0.0295]\n",
      "Epoch 14: 100%|██████████| 1200/1200 [00:04<00:00, 243.04batch/s, error=0.0342]\n",
      "Epoch 15: 100%|██████████| 1200/1200 [00:04<00:00, 250.98batch/s, error=0.0276]\n",
      "Epoch 16: 100%|██████████| 1200/1200 [00:04<00:00, 242.00batch/s, error=0.0259]\n",
      "Epoch 17: 100%|██████████| 1200/1200 [00:04<00:00, 244.48batch/s, error=0.0269]\n",
      "Epoch 18: 100%|██████████| 1200/1200 [00:04<00:00, 244.29batch/s, error=0.0257]\n",
      "Epoch 19: 100%|██████████| 1200/1200 [00:04<00:00, 242.38batch/s, error=0.0284]\n",
      "Epoch 20: 100%|██████████| 1200/1200 [00:04<00:00, 243.75batch/s, error=0.0337]\n",
      "Epoch 21: 100%|██████████| 1200/1200 [00:04<00:00, 246.69batch/s, error=0.0289]\n",
      "Epoch 22: 100%|██████████| 1200/1200 [00:04<00:00, 245.09batch/s, error=0.0254]\n",
      "Epoch 23: 100%|██████████| 1200/1200 [00:04<00:00, 248.25batch/s, error=0.0251]\n",
      "Epoch 24: 100%|██████████| 1200/1200 [00:04<00:00, 246.79batch/s, error=0.0259]\n",
      "Epoch 25: 100%|██████████| 1200/1200 [00:04<00:00, 243.16batch/s, error=0.0222]\n",
      "Epoch 26: 100%|██████████| 1200/1200 [00:04<00:00, 242.10batch/s, error=0.024] \n",
      "Epoch 27: 100%|██████████| 1200/1200 [00:04<00:00, 245.59batch/s, error=0.0254]\n",
      "Epoch 28: 100%|██████████| 1200/1200 [00:04<00:00, 243.87batch/s, error=0.0252]\n",
      "Epoch 29: 100%|██████████| 1200/1200 [00:04<00:00, 241.40batch/s, error=0.0243]\n",
      "Epoch 30: 100%|██████████| 1200/1200 [00:04<00:00, 243.61batch/s, error=0.022] \n",
      "Epoch 31: 100%|██████████| 1200/1200 [00:05<00:00, 239.56batch/s, error=0.0266]\n",
      "Epoch 32: 100%|██████████| 1200/1200 [00:04<00:00, 243.17batch/s, error=0.0276]\n",
      "Epoch 33: 100%|██████████| 1200/1200 [00:04<00:00, 245.34batch/s, error=0.0226]\n",
      "Epoch 34: 100%|██████████| 1200/1200 [00:04<00:00, 246.71batch/s, error=0.0221]\n",
      "Epoch 35: 100%|██████████| 1200/1200 [00:04<00:00, 245.69batch/s, error=0.0309]\n",
      "Epoch 36: 100%|██████████| 1200/1200 [00:05<00:00, 238.95batch/s, error=0.0236]\n",
      "Epoch 37: 100%|██████████| 1200/1200 [00:04<00:00, 242.36batch/s, error=0.0237]\n",
      "Epoch 38: 100%|██████████| 1200/1200 [00:04<00:00, 245.86batch/s, error=0.0204]\n",
      "Epoch 39: 100%|██████████| 1200/1200 [00:04<00:00, 247.31batch/s, error=0.0201]\n",
      "Epoch 40: 100%|██████████| 1200/1200 [00:04<00:00, 245.46batch/s, error=0.0216]\n",
      "Epoch 41: 100%|██████████| 1200/1200 [00:04<00:00, 241.37batch/s, error=0.0197]\n",
      "Epoch 42: 100%|██████████| 1200/1200 [00:04<00:00, 245.06batch/s, error=0.0182]\n",
      "Epoch 43: 100%|██████████| 1200/1200 [00:04<00:00, 250.00batch/s, error=0.0182]\n",
      "Epoch 44: 100%|██████████| 1200/1200 [00:05<00:00, 239.06batch/s, error=0.0199]\n",
      "Epoch 45: 100%|██████████| 1200/1200 [00:04<00:00, 243.46batch/s, error=0.0199]\n",
      "Epoch 46: 100%|██████████| 1200/1200 [00:04<00:00, 241.36batch/s, error=0.017] \n",
      "Epoch 47: 100%|██████████| 1200/1200 [00:04<00:00, 245.19batch/s, error=0.0188]\n",
      "Epoch 48: 100%|██████████| 1200/1200 [00:04<00:00, 244.81batch/s, error=0.0172]\n",
      "Epoch 49: 100%|██████████| 1200/1200 [00:04<00:00, 251.07batch/s, error=0.0165]\n"
     ]
    },
    {
     "name": "stdout",
     "output_type": "stream",
     "text": [
      "******************************************\n",
      "chosen epoch: 49\n",
      "train Error     : 0.018467672169208527\n",
      "test Error      : 0.02648068219423294\n",
      "validation Error: 0.06761404871940613\n"
     ]
    },
    {
     "data": {
      "image/png": "[encoded data removed]",
      "text/plain": [
       "<Figure size 640x480 with 1 Axes>"
      ]
     },
     "metadata": {},
     "output_type": "display_data"
    },
    {
     "name": "stdout",
     "output_type": "stream",
     "text": [
      "MLP geodesic test error angle:9.767447471618652\n",
      "MLP geodesic val error angle :9.253777503967285\n"
     ]
    },
    {
     "data": {
      "image/png": "[encoded data removed]",
      "text/plain": [
       "<Figure size 640x480 with 1 Axes>"
      ]
     },
     "metadata": {},
     "output_type": "display_data"
    }
   ],
   "source": [
    "%matplotlib inline\n",
    "torch.manual_seed(27)\n",
    "#Define the model\n",
    "good_parameters = [[126, 96, 72, 65, 56], nn.ReLU(), 0.0001, 500, 50]\n",
    "hidden_layer_sizes, activation_fn, lr, batch_size, n_epoch  = good_parameters\n",
    "\n",
    "model = create_model(input_size, output_size, hidden_layer_sizes, activation=activation_fn, device=device)\n",
    "\n",
    "#loss function and optimizer\n",
    "loss_fn = my_new_loss\n",
    "optimizer = optim.Adam(model.parameters(), lr=lr)\n",
    "\n",
    "batch_start = torch.arange(0, len(X_train), batch_size)\n",
    "\n",
    "#Hold the best model\n",
    "chosen_epoch = 0\n",
    "best_error = np.inf   #init to infinity\n",
    "best_weights = None\n",
    "training_error_list = []\n",
    "generalisation_error_list = []\n",
    "n_epochs = 50\n",
    "\n",
    "for epoch in range(n_epochs):\n",
    "    model.train()\n",
    "    with tqdm.tqdm(batch_start, unit=\"batch\", mininterval=0, disable=False) as bar:\n",
    "        bar.set_description(f\"Epoch {epoch}\")\n",
    "        for start in bar:\n",
    "            #take a batch\n",
    "            X_batch = X_train[start:start+batch_size]\n",
    "            y_batch = y_train[start:start+batch_size]\n",
    "            #forward pass\n",
    "            y_pred = model(X_batch)\n",
    "            loss = loss_fn(y_pred, y_batch)\n",
    "            #backward pass\n",
    "            optimizer.zero_grad()\n",
    "            loss.backward()\n",
    "            #update weights\n",
    "            optimizer.step()\n",
    "            #print progress\n",
    "            bar.set_postfix(error=float(loss))\n",
    "    #evaluate accuracy at end of each epoch\n",
    "    model.eval()\n",
    "    #training error\n",
    "    training_error_list.append(float(loss_fn(model(X_train), y_train)))\n",
    "    #generalisation error\n",
    "    y_pred = model(X_test)\n",
    "    generalisation_error = loss_fn(y_pred, y_test)\n",
    "    generalisation_error = float(generalisation_error)\n",
    "    generalisation_error_list.append(generalisation_error)\n",
    "    if generalisation_error < best_error:\n",
    "        best_error = generalisation_error\n",
    "        best_weights = copy.deepcopy(model.state_dict())\n",
    "        chosen_epoch = epoch\n",
    "\n",
    "\n",
    "print(\"******************************************\")\n",
    "#restore model and return best accuracy\n",
    "model.load_state_dict(best_weights)\n",
    "\n",
    "y_train_pred    = model(X_train)\n",
    "train_error     = loss_fn(y_train_pred, y_train)\n",
    "\n",
    "y_test_pred = model(X_test)\n",
    "test_error  = loss_fn(y_test_pred, y_test)\n",
    "\n",
    "y_pred = model(X_val)\n",
    "val_error   = loss_fn(y_val, y_pred)\n",
    "\n",
    "print(f\"chosen epoch: {chosen_epoch}\")\n",
    "print(f\"train Error     : {train_error}\")\n",
    "print(f\"test Error      : {test_error}\")\n",
    "print(f\"validation Error: {val_error}\")\n",
    "\n",
    "plt.close()\n",
    "\n",
    "plt.plot(training_error_list, c=\"blue\", label=\"training error\")\n",
    "plt.plot(generalisation_error_list, c=\"red\", label=\"generalisation error\")\n",
    "plt.legend()\n",
    "plt.xlabel(\"epoch\"), plt.ylabel(\"error\")\n",
    "plt.show()\n",
    "\n",
    "print(f\"MLP geodesic test error angle:{geodesic_error(y_test_pred, y_test)}\")\n",
    "print(f\"MLP geodesic val error angle :{geodesic_error(y_pred, y_val)}\")"
   ]
  },
  {
   "cell_type": "code",
   "execution_count": 99,
   "metadata": {},
   "outputs": [
    {
     "name": "stdout",
     "output_type": "stream",
     "text": [
      "TRIAD mean geodesic test error: 8.271135585170999°\n",
      "TRIAD mean geodesic val error:  8.26723195584429°\n"
     ]
    }
   ],
   "source": [
    "print(f\"TRIAD mean geodesic test error: {mean_triad_angle_error(df_test)}°\")\n",
    "print(f\"TRIAD mean geodesic val error:  {mean_triad_angle_error(df_val)}°\")"
   ]
  },
  {
   "cell_type": "code",
   "execution_count": 100,
   "metadata": {},
   "outputs": [
    {
     "name": "stdout",
     "output_type": "stream",
     "text": [
      "TRIAD std geodesic test error: 6.113613679553405°\n",
      "TRIAD std geodesic val error:  6.125445250414322°\n"
     ]
    }
   ],
   "source": [
    "print(f\"TRIAD std geodesic test error: {triad_angle_error_std(df_test)}°\")\n",
    "print(f\"TRIAD std geodesic val error:  {triad_angle_error_std(df_val)}°\")"
   ]
  },
  {
   "cell_type": "markdown",
   "metadata": {},
   "source": [
    "### MLP-aided TRIAD"
   ]
  },
  {
   "cell_type": "code",
   "execution_count": 101,
   "metadata": {},
   "outputs": [],
   "source": [
    "\"\"\"Defining the input features and the output\"\"\"\n",
    "X_columns = ['x', 'z', 'mag_x', 'mag_y', 'mag_z', 'B_I_x', 'B_I_y', 'B_I_z',\n",
    "             's_I_x', 's_I_y', 'n_I_x', 'n_I_y', 'n_I_z', 'CNT_px', 'CNT_mx', 'CNT_py',\n",
    "             'CNT_my', 'CNT_pz', 'CNT_mz', 'OSR_px', 'OSR_mx', 'OSR_py', 'OSR_my', 'OSR_pz',\n",
    "             'OSR_mz', 'P_px', 'P_mx', 'P_py', 'P_my', 'P_pz', 'P_mz', 'gyro_x', 'gyro_y', 'gyro_z']\n",
    "Y_columns = ['q1', 'q2', 'q3', 'q4']"
   ]
  },
  {
   "cell_type": "code",
   "execution_count": 102,
   "metadata": {},
   "outputs": [],
   "source": [
    "def Y_from_df(df):\n",
    "    \"\"\"\n",
    "    Returns the nadir direction and magnetic field vectors\n",
    "    \"\"\"\n",
    "    Y = np.zeros(shape=(len(df), 6))\n",
    "    for i in range(len(df)):\n",
    "        q = df.iloc[i]\n",
    "        P_BODY_I = q_to_R(q)[0:3,0:3].transpose()\n",
    "\n",
    "        n_I = np.matrix(df.iloc[i][['n_I_x', 'n_I_y', 'n_I_z']]).transpose()\n",
    "        B_I = np.matrix(df.iloc[i][['B_I_x', 'B_I_y', 'B_I_z']]).transpose()\n",
    "\n",
    "        n_BODY = P_BODY_I@n_I\n",
    "        B_BODY = P_BODY_I@B_I\n",
    "\n",
    "        n_BODY = np.array(n_BODY).squeeze()\n",
    "        B_BODY = np.array(B_BODY).squeeze()\n",
    "\n",
    "        #normalization\n",
    "        n_BODY = n_BODY/np.linalg.norm(n_BODY)\n",
    "        B_BODY = B_BODY/np.linalg.norm(B_BODY)\n",
    "\n",
    "        row = np.concatenate([n_BODY, B_BODY])\n",
    "\n",
    "        Y[i,:] = row\n",
    "    return Y"
   ]
  },
  {
   "cell_type": "code",
   "execution_count": 103,
   "metadata": {},
   "outputs": [],
   "source": [
    "\"\"\"shuffling the datasets, scaling them and converting them to tensors\"\"\"\n",
    "X_train_raw = df_train[X_columns].values\n",
    "X_test_raw  = df_test[X_columns].values\n",
    "X_val_raw   = df_val[X_columns].values\n",
    "\n",
    "y_train_np = Y_from_df(df_train)\n",
    "y_test_np  = Y_from_df(df_test)\n",
    "y_val_np   = Y_from_df(df_val)\n",
    "\n",
    "#Standardizing data\n",
    "scaler  = StandardScaler()\n",
    "scaler.fit(X_train_raw)\n",
    "\n",
    "X_train_np = scaler.transform(X_train_raw)\n",
    "X_test_np  = scaler.transform(X_test_raw)\n",
    "X_val_np   = scaler.transform(X_val_raw)\n",
    "\n",
    "#Shuffling the training data\n",
    "seed = 64\n",
    "\n",
    "np.random.seed(seed)\n",
    "np.random.shuffle(X_train_np)\n",
    "np.random.shuffle(X_test_np)\n",
    "np.random.shuffle(X_val_np)\n",
    "\n",
    "np.random.seed(seed)\n",
    "np.random.shuffle(y_train_np)\n",
    "np.random.shuffle(y_test_np)\n",
    "np.random.shuffle(y_val_np)\n",
    "\n",
    "#Convert to 2D PyTorch tensors and send them to the GPU if compatible\n",
    "X_train = torch.tensor(X_train_np, dtype=torch.float32).to(device)\n",
    "y_train = torch.tensor(y_train_np, dtype=torch.float32).to(device)\n",
    "X_test  = torch.tensor(X_test_np, dtype=torch.float32).to(device)\n",
    "y_test  = torch.tensor(y_test_np, dtype=torch.float32).to(device)\n",
    "X_val   = torch.tensor(X_val_np, dtype=torch.float32).to(device)\n",
    "y_val   = torch.tensor(y_val_np, dtype=torch.float32).to(device)\n",
    "\n",
    "input_size  = X_train.shape[1]\n",
    "output_size = y_train.shape[1]"
   ]
  },
  {
   "cell_type": "code",
   "execution_count": 104,
   "metadata": {},
   "outputs": [
    {
     "name": "stderr",
     "output_type": "stream",
     "text": [
      "Epoch 0: 100%|██████████| 60/60 [00:00<00:00, 159.27batch/s, error=0.00239]\n",
      "Epoch 1: 100%|██████████| 60/60 [00:00<00:00, 302.13batch/s, error=0.001]   \n",
      "Epoch 2: 100%|██████████| 60/60 [00:00<00:00, 306.30batch/s, error=0.000836]\n",
      "Epoch 3: 100%|██████████| 60/60 [00:00<00:00, 283.02batch/s, error=0.000789]\n",
      "Epoch 4: 100%|██████████| 60/60 [00:00<00:00, 297.03batch/s, error=0.000784]\n",
      "Epoch 5: 100%|██████████| 60/60 [00:00<00:00, 295.56batch/s, error=0.000682]\n",
      "Epoch 6: 100%|██████████| 60/60 [00:00<00:00, 314.13batch/s, error=0.000684]\n",
      "Epoch 7: 100%|██████████| 60/60 [00:00<00:00, 279.07batch/s, error=0.000509]\n",
      "Epoch 8: 100%|██████████| 60/60 [00:00<00:00, 281.62batch/s, error=0.00046] \n",
      "Epoch 9: 100%|██████████| 60/60 [00:00<00:00, 298.50batch/s, error=0.000488]\n",
      "Epoch 10: 100%|██████████| 60/60 [00:00<00:00, 309.28batch/s, error=0.000469]\n",
      "Epoch 11: 100%|██████████| 60/60 [00:00<00:00, 298.51batch/s, error=0.000526]\n",
      "Epoch 12: 100%|██████████| 60/60 [00:00<00:00, 294.12batch/s, error=0.000288]\n",
      "Epoch 13: 100%|██████████| 60/60 [00:00<00:00, 298.47batch/s, error=0.000355]\n",
      "Epoch 14: 100%|██████████| 60/60 [00:00<00:00, 308.31batch/s, error=0.000342]\n",
      "Epoch 15: 100%|██████████| 60/60 [00:00<00:00, 285.59batch/s, error=0.000296]\n",
      "Epoch 16: 100%|██████████| 60/60 [00:00<00:00, 288.99batch/s, error=0.000358]\n",
      "Epoch 17: 100%|██████████| 60/60 [00:00<00:00, 304.53batch/s, error=0.000149]\n",
      "Epoch 18: 100%|██████████| 60/60 [00:00<00:00, 314.77batch/s, error=0.000417]\n",
      "Epoch 19: 100%|██████████| 60/60 [00:00<00:00, 280.83batch/s, error=0.000204]\n",
      "Epoch 20: 100%|██████████| 60/60 [00:00<00:00, 299.10batch/s, error=0.000337]\n",
      "Epoch 21: 100%|██████████| 60/60 [00:00<00:00, 287.08batch/s, error=0.00012] \n",
      "Epoch 22: 100%|██████████| 60/60 [00:00<00:00, 300.00batch/s, error=0.00016] \n",
      "Epoch 23: 100%|██████████| 60/60 [00:00<00:00, 309.28batch/s, error=6.63e-5] \n",
      "Epoch 24: 100%|██████████| 60/60 [00:00<00:00, 307.69batch/s, error=0.000265]\n",
      "Epoch 25: 100%|██████████| 60/60 [00:00<00:00, 271.84batch/s, error=0.000139]\n",
      "Epoch 26: 100%|██████████| 60/60 [00:00<00:00, 295.57batch/s, error=0.000159]\n",
      "Epoch 27: 100%|██████████| 60/60 [00:00<00:00, 312.50batch/s, error=0.00023] \n",
      "Epoch 28: 100%|██████████| 60/60 [00:00<00:00, 319.16batch/s, error=8.24e-5] \n",
      "Epoch 29: 100%|██████████| 60/60 [00:00<00:00, 294.11batch/s, error=2.18e-5] \n",
      "Epoch 30: 100%|██████████| 60/60 [00:00<00:00, 294.40batch/s, error=2.97e-5] \n",
      "Epoch 31: 100%|██████████| 60/60 [00:00<00:00, 287.61batch/s, error=0.00862] \n",
      "Epoch 32: 100%|██████████| 60/60 [00:00<00:00, 307.69batch/s, error=0.000408]\n",
      "Epoch 33: 100%|██████████| 60/60 [00:00<00:00, 309.28batch/s, error=0.000339]\n",
      "Epoch 34: 100%|██████████| 60/60 [00:00<00:00, 291.27batch/s, error=4e-5]    \n",
      "Epoch 35: 100%|██████████| 60/60 [00:00<00:00, 292.68batch/s, error=2.33e-5]\n",
      "Epoch 36: 100%|██████████| 60/60 [00:00<00:00, 297.01batch/s, error=1.31e-5]\n",
      "Epoch 37: 100%|██████████| 60/60 [00:00<00:00, 293.07batch/s, error=1.01e-5]\n",
      "Epoch 38: 100%|██████████| 60/60 [00:00<00:00, 305.20batch/s, error=8.34e-6]\n",
      "Epoch 39: 100%|██████████| 60/60 [00:00<00:00, 312.47batch/s, error=7.15e-6]\n",
      "Epoch 40: 100%|██████████| 60/60 [00:00<00:00, 305.17batch/s, error=6.67e-6]\n",
      "Epoch 41: 100%|██████████| 60/60 [00:00<00:00, 292.68batch/s, error=5.27e-6]\n",
      "Epoch 42: 100%|██████████| 60/60 [00:00<00:00, 297.03batch/s, error=6.05e-6]\n",
      "Epoch 43: 100%|██████████| 60/60 [00:00<00:00, 277.78batch/s, error=4.26e-6]\n",
      "Epoch 44: 100%|██████████| 60/60 [00:00<00:00, 288.46batch/s, error=4.15e-6]\n",
      "Epoch 45: 100%|██████████| 60/60 [00:00<00:00, 287.08batch/s, error=5.87e-6]\n",
      "Epoch 46: 100%|██████████| 60/60 [00:00<00:00, 292.68batch/s, error=2.98e-6]\n",
      "Epoch 47: 100%|██████████| 60/60 [00:00<00:00, 301.51batch/s, error=1.12e-5]\n",
      "Epoch 48: 100%|██████████| 60/60 [00:00<00:00, 312.17batch/s, error=2.8e-6] \n",
      "Epoch 49: 100%|██████████| 60/60 [00:00<00:00, 291.27batch/s, error=2.3e-6] \n"
     ]
    },
    {
     "name": "stdout",
     "output_type": "stream",
     "text": [
      "******************************************\n",
      "chosen epoch    : 0\n",
      "train Error     : 0.002550395205616951\n",
      "test Error      : 0.05648244544863701\n",
      "validation Error: 0.05873296409845352\n"
     ]
    },
    {
     "data": {
      "image/png": "[encoded data removed]",
      "text/plain": [
       "<Figure size 640x480 with 1 Axes>"
      ]
     },
     "metadata": {},
     "output_type": "display_data"
    }
   ],
   "source": [
    "torch.manual_seed(76)\n",
    "#Define the model\n",
    "\n",
    "hidden_layer_sizes, activation_fn, lr, batch_size, n_epoch  = [[256, 128, 64, 32, 16], nn.ReLU(), 0.01, 10000, 75]\n",
    "\n",
    "model = create_model(input_size, output_size, hidden_layer_sizes, activation=activation_fn, device=device)\n",
    "\n",
    "#loss function and optimizer\n",
    "loss_fn = nn.MSELoss()\n",
    "optimizer = optim.Adam(model.parameters(), lr=lr)\n",
    "\n",
    "batch_start = torch.arange(0, len(X_train), batch_size)\n",
    "\n",
    "#Hold the best model\n",
    "chosen_epoch = 0\n",
    "best_error = np.inf   #init to infinity\n",
    "best_weights = None\n",
    "training_error_list = []\n",
    "generalisation_error_list = []\n",
    "\n",
    "for epoch in range(n_epochs):\n",
    "    model.train()\n",
    "    with tqdm.tqdm(batch_start, unit=\"batch\", mininterval=0, disable=False) as bar:\n",
    "        bar.set_description(f\"Epoch {epoch}\")\n",
    "        for start in bar:\n",
    "            #take a batch\n",
    "            X_batch = X_train[start:start+batch_size]\n",
    "            y_batch = y_train[start:start+batch_size]\n",
    "            #forward pass\n",
    "            y_pred = model(X_batch)\n",
    "            loss = loss_fn(y_pred, y_batch)\n",
    "            #backward pass\n",
    "            optimizer.zero_grad()\n",
    "            loss.backward()\n",
    "            #update weights\n",
    "            optimizer.step()\n",
    "            #print progress\n",
    "            bar.set_postfix(error=float(loss))\n",
    "    #evaluate accuracy at end of each epoch\n",
    "    model.eval()\n",
    "    #training error\n",
    "    training_error_list.append(float(loss_fn(model(X_train), y_train)))\n",
    "    #generalisation error\n",
    "    y_pred = model(X_test)\n",
    "    generalisation_error = loss_fn(y_pred, y_test)\n",
    "    generalisation_error = float(generalisation_error)\n",
    "    generalisation_error_list.append(generalisation_error)\n",
    "    if generalisation_error < best_error:\n",
    "        best_error = generalisation_error\n",
    "        best_weights = copy.deepcopy(model.state_dict())\n",
    "        chosen_epoch = epoch\n",
    "\n",
    "\n",
    "print(\"******************************************\")\n",
    "#restore model and return best accuracy\n",
    "model.load_state_dict(best_weights)\n",
    "\n",
    "y_train_pred    = model(X_train)\n",
    "train_error     = loss_fn(y_train_pred, y_train)\n",
    "\n",
    "y_test_pred = model(X_test)\n",
    "test_error  = loss_fn(y_test_pred, y_test)\n",
    "\n",
    "y_pred = model(X_val)\n",
    "val_error   = loss_fn(y_pred, y_val)\n",
    "\n",
    "print(f\"chosen epoch    : {chosen_epoch}\")\n",
    "print(f\"train Error     : {train_error}\")\n",
    "print(f\"test Error      : {test_error}\")\n",
    "print(f\"validation Error: {val_error}\")\n",
    "\n",
    "plt.plot(training_error_list, c=\"blue\")\n",
    "plt.plot(generalisation_error_list, c=\"red\")\n",
    "plt.legend([\"training error\", \"generalisation error\"])\n",
    "plt.xlabel(\"epoch\"), plt.ylabel(\"generalisation error\")\n",
    "plt.show()"
   ]
  },
  {
   "cell_type": "code",
   "execution_count": 105,
   "metadata": {},
   "outputs": [],
   "source": [
    "y_pred = model(X_val)\n",
    "\n",
    "nadir_pred   = y_pred[:, 0:3]\n",
    "mag_pred     = y_pred[:, 3:6]\n",
    "\n",
    "#normalization\n",
    "nadir_pred  = nadir_pred/torch.sqrt(torch.sum(nadir_pred*nadir_pred, axis=1)).reshape((len(nadir_pred), 1)).expand(len(nadir_pred), 3)\n",
    "mag_pred    = mag_pred/torch.sqrt(torch.sum(mag_pred*mag_pred, axis=1)).reshape((len(mag_pred), 1)).expand(len(mag_pred), 3)\n",
    "\n",
    "nadir_val   = y_val[:, 0:3]\n",
    "mag_val     = y_val[:, 3:6]\n",
    "\n",
    "nadir_error_angle = torch.arccos(torch.sum(nadir_pred*nadir_val, axis=1)).cpu().detach().numpy()*180/np.pi\n",
    "mag_error_angle   = torch.arccos(torch.sum(mag_pred*mag_val, axis=1)).cpu().detach().numpy()*180/np.pi"
   ]
  },
  {
   "cell_type": "code",
   "execution_count": 106,
   "metadata": {},
   "outputs": [
    {
     "data": {
      "text/plain": [
       "<matplotlib.legend.Legend at 0x289066e5250>"
      ]
     },
     "execution_count": 106,
     "metadata": {},
     "output_type": "execute_result"
    },
    {
     "data": {
      "image/png": "[encoded data removed]",
      "text/plain": [
       "<Figure size 640x480 with 1 Axes>"
      ]
     },
     "metadata": {},
     "output_type": "display_data"
    }
   ],
   "source": [
    "plt.hist(nadir_error_angle, bins=100, density=True, alpha=0.6, color=\"blue\")\n",
    "plt.hist(mag_error_angle, bins=100, density=True, alpha=0.6, color=\"orange\")\n",
    "plt.xlabel(\"axis\")\n",
    "plt.ylabel(\"density\")  # Change \"frequency\" to \"density\" in the ylabel\n",
    "plt.legend([\"nadir error angle\", \"magnetic field error angle\"])"
   ]
  },
  {
   "cell_type": "code",
   "execution_count": 107,
   "metadata": {},
   "outputs": [],
   "source": [
    "#nan due to epsilon machine\n",
    "np.where(np.isnan(nadir_error_angle)==True)\n",
    "nadir_error_angle[np.where(np.isnan(nadir_error_angle)==True)] = 0\n",
    "mag_error_angle[np.where(np.isnan(mag_error_angle)==True)] = 0"
   ]
  },
  {
   "cell_type": "code",
   "execution_count": 108,
   "metadata": {},
   "outputs": [
    {
     "data": {
      "text/plain": [
       "(90.99334, 79.89477)"
      ]
     },
     "execution_count": 108,
     "metadata": {},
     "output_type": "execute_result"
    }
   ],
   "source": [
    "np.max(nadir_error_angle), np.max(mag_error_angle)"
   ]
  },
  {
   "cell_type": "code",
   "execution_count": 109,
   "metadata": {},
   "outputs": [
    {
     "name": "stdout",
     "output_type": "stream",
     "text": [
      "Nadir angle mean          : 11.479713439941406°\n",
      "Nadir angle STD           : 15.587158203125°\n",
      "Magnetic field angle mean : 24.283544540405273°\n",
      "Magnetic field angle STD  : 16.35007667541504°\n"
     ]
    }
   ],
   "source": [
    "print(f\"Nadir angle mean          : {np.mean(nadir_error_angle)}°\")\n",
    "print(f\"Nadir angle STD           : {np.std(nadir_error_angle)}°\")\n",
    "\n",
    "print(f\"Magnetic field angle mean : {np.mean(mag_error_angle)}°\")\n",
    "print(f\"Magnetic field angle STD  : {np.std(mag_error_angle)}°\")"
   ]
  },
  {
   "cell_type": "code",
   "execution_count": 110,
   "metadata": {},
   "outputs": [
    {
     "name": "stdout",
     "output_type": "stream",
     "text": [
      "Nadir angle mediab          : 5.7988691329956055°\n",
      "Nadir angle STD             : 15.587158203125°\n"
     ]
    }
   ],
   "source": [
    "print(f\"Nadir angle mediab          : {np.median(nadir_error_angle)}°\")\n",
    "print(f\"Nadir angle STD             : {np.std(nadir_error_angle)}°\")"
   ]
  }
 ],
 "metadata": {
  "kernelspec": {
   "display_name": "base",
   "language": "python",
   "name": "python3"
  },
  "language_info": {
   "codemirror_mode": {
    "name": "ipython",
    "version": 3
   },
   "file_extension": ".py",
   "mimetype": "text/x-python",
   "name": "python",
   "nbconvert_exporter": "python",
   "pygments_lexer": "ipython3",
   "version": "3.11.4"
  },
  "orig_nbformat": 4
 },
 "nbformat": 4,
 "nbformat_minor": 2
}
