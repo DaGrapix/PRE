{
 "cells": [
  {
   "cell_type": "markdown",
   "metadata": {},
   "source": [
    "# Montecarlo simulation for estimating the geodesic attitude error given the errors on the measurements"
   ]
  },
  {
   "cell_type": "markdown",
   "metadata": {},
   "source": [
    "Author: Anthony Kalaydjian"
   ]
  },
  {
   "cell_type": "code",
   "execution_count": 1,
   "metadata": {},
   "outputs": [],
   "source": [
    "import numpy as np\n",
    "from math import *\n",
    "import matplotlib.pyplot as plt\n",
    "import scipy"
   ]
  },
  {
   "cell_type": "code",
   "execution_count": 2,
   "metadata": {},
   "outputs": [],
   "source": [
    "mean_1   = 0.67*pi/180\n",
    "mean_2   = 0.87*pi/180\n",
    "std_1    = 0.43*pi/180\n",
    "std_2    = 0.62*pi/180"
   ]
  },
  {
   "cell_type": "code",
   "execution_count": 3,
   "metadata": {},
   "outputs": [],
   "source": [
    "N_iter = 100000"
   ]
  },
  {
   "cell_type": "code",
   "execution_count": 4,
   "metadata": {},
   "outputs": [],
   "source": [
    "def q_from_angle_axis(angle, axis):\n",
    "    axis = np.array(axis).squeeze()\n",
    "    q = np.concatenate([sin(angle/2)*axis, cos(angle/2)*np.array([1])])\n",
    "\n",
    "    q = np.matrix(q).transpose()\n",
    "    return q"
   ]
  },
  {
   "cell_type": "code",
   "execution_count": 5,
   "metadata": {},
   "outputs": [],
   "source": [
    "def q_to_R(q):\n",
    "    \"\"\"\n",
    "    Returns the rotation matrix associated to the rotation defined by the quaternion\n",
    "    \"\"\"\n",
    "    q = q.squeeze()\n",
    "    try:\n",
    "        q1 = q[0]\n",
    "        q2 = q[1]\n",
    "        q3 = q[2]\n",
    "        q4 = q[3]\n",
    "    except:\n",
    "        q1 = q[0,0]\n",
    "        q2 = q[0,1]\n",
    "        q3 = q[0,2]\n",
    "        q4 = q[0,3]\n",
    "\n",
    "    R = np.matrix(\n",
    "        [\n",
    "            [1 - 2*(q2**2 + q3**2), 2*(q1*q2 - q3*q4), 2*(q1*q3 + q4*q2), 0],\n",
    "            [2*(q1*q2 + q4*q3), 1 - 2*(q1**2 + q3**2), 2*(q2*q3 - q1*q4), 0],\n",
    "            [2*(q1*q3 - q4*q2), 2*(q2*q3 + q4*q1), 1 - 2*(q1**2 + q2**2), 0],\n",
    "            [0, 0, 0, 1]\n",
    "        ]\n",
    "    )\n",
    "\n",
    "    return R.squeeze()"
   ]
  },
  {
   "cell_type": "code",
   "execution_count": 6,
   "metadata": {},
   "outputs": [],
   "source": [
    "def triad_error(v1_I, v2_I, v1_BODY_measurement, v2_BODY_measurement, P_I_BODY):\n",
    "    t1 = v1_I\n",
    "    t1 = t1/np.linalg.norm(t1)\n",
    "    t3 = np.cross(t1, v2_I, axis=0)\n",
    "    t3 = t3/np.linalg.norm(t3)\n",
    "    t2 = np.cross(t3, t1, axis=0)\n",
    "\n",
    "    t1_BODY_measurement = v1_BODY_measurement\n",
    "    t1_BODY_measurement = t1_BODY_measurement/np.linalg.norm(t1_BODY_measurement)\n",
    "    t3_BODY_measurement = np.cross(t1_BODY_measurement, v2_BODY_measurement, axis=0)\n",
    "    t3_BODY_measurement = t3_BODY_measurement/np.linalg.norm(t3_BODY_measurement)\n",
    "    t2_BODY_measurement = np.cross(t3_BODY_measurement, t1_BODY_measurement, axis=0)\n",
    "\n",
    "    P_I_TRIAD = np.concatenate([t1, t2, t3], axis=1)\n",
    "    P_BODY_TRIAD_measurement = np.concatenate([t1_BODY_measurement, t2_BODY_measurement, t3_BODY_measurement], axis=1)\n",
    "    P_I_BODY_triad_measurement = P_I_TRIAD@P_BODY_TRIAD_measurement.transpose()\n",
    "\n",
    "    error_matrix = P_I_BODY_triad_measurement@P_I_BODY.transpose()\n",
    "\n",
    "    angle = (np.trace(error_matrix) - 1)/2\n",
    "\n",
    "    #fixing epsilon machine errors\n",
    "    if (np.abs(angle - 1)>0 and np.abs(angle - 1)<1e-15):\n",
    "        error_angle=0\n",
    "    elif (np.abs(angle + 1)>0 and np.abs(angle + 1)<1e-15):\n",
    "        error_angle=pi\n",
    "    else:\n",
    "        error_angle = np.arccos((np.trace(error_matrix) - 1)/2)\n",
    "\n",
    "    return error_angle"
   ]
  },
  {
   "cell_type": "code",
   "execution_count": 7,
   "metadata": {},
   "outputs": [
    {
     "name": "stdout",
     "output_type": "stream",
     "text": [
      "MEAN    :1.2926423323746492\n",
      "STD     :2.2433637046312294\n"
     ]
    }
   ],
   "source": [
    "np.random.seed(12)\n",
    "error_list = []\n",
    "\n",
    "for i in range(N_iter):\n",
    "    v1_I = np.random.random(3)\n",
    "    v2_I = np.random.random(3)\n",
    "\n",
    "    v1_I = v1_I/np.linalg.norm(v1_I)\n",
    "    v2_I = v2_I/np.linalg.norm(v2_I)\n",
    "\n",
    "    v1_I = np.matrix(v1_I).transpose()\n",
    "    v2_I = np.matrix(v2_I).transpose()\n",
    "\n",
    "    attitude_q = np.random.random(4)\n",
    "    attitude_q = attitude_q/np.linalg.norm(attitude_q)\n",
    "    P_I_BODY = q_to_R(attitude_q)[0:3, 0:3]\n",
    "\n",
    "    v1_BODY = P_I_BODY.transpose()@v1_I\n",
    "    v2_BODY = P_I_BODY.transpose()@v2_I\n",
    "\n",
    "\n",
    "    angle_error_1 = np.abs(np.random.normal(loc=mean_1, scale=std_1))\n",
    "    angle_error_2 = np.abs(np.random.normal(loc=mean_2, scale=std_2))\n",
    "\n",
    "    axis_1 = np.random.random(3)\n",
    "    axis_2 = np.random.random(3)\n",
    "\n",
    "    axis_1 = axis_1/np.linalg.norm(axis_1)\n",
    "    axis_2 = axis_2/np.linalg.norm(axis_2)\n",
    "\n",
    "    q1 = q_from_angle_axis(angle_error_1, axis_1)\n",
    "    q2 = q_from_angle_axis(angle_error_2, axis_2)\n",
    "\n",
    "    R1 = q_to_R(q1)[0:3, 0:3]\n",
    "    R2 = q_to_R(q2)[0:3, 0:3]\n",
    "\n",
    "    v1_BODY_measurement = R1@v1_BODY\n",
    "    v2_BODY_measurement = R2@v2_BODY\n",
    "\n",
    "    error = triad_error(v1_I, v2_I, v1_BODY_measurement, v2_BODY_measurement, P_I_BODY)\n",
    "    error_list.append(error)\n",
    "\n",
    "error_list = np.array(error_list)*180/pi\n",
    "print(f\"MEAN    :{np.mean(error_list)}\")\n",
    "print(f\"STD     :{np.std(error_list)}\")"
   ]
  },
  {
   "cell_type": "code",
   "execution_count": 8,
   "metadata": {},
   "outputs": [
    {
     "data": {
      "text/plain": [
       "Text(0, 0.5, 'frequency')"
      ]
     },
     "execution_count": 8,
     "metadata": {},
     "output_type": "execute_result"
    },
    {
     "data": {
      "image/png": "[encoded data removed]",
      "text/plain": [
       "<Figure size 640x480 with 1 Axes>"
      ]
     },
     "metadata": {},
     "output_type": "display_data"
    }
   ],
   "source": [
    "plt.hist(error_list, bins=200, density=True, range=[0, 8])\n",
    "plt.title(\"Geodesic attitude error given the measurement error parameters\")\n",
    "plt.xlabel(\"angle error (°)\")\n",
    "plt.ylabel(\"frequency\")"
   ]
  }
 ],
 "metadata": {
  "kernelspec": {
   "display_name": "base",
   "language": "python",
   "name": "python3"
  },
  "language_info": {
   "codemirror_mode": {
    "name": "ipython",
    "version": 3
   },
   "file_extension": ".py",
   "mimetype": "text/x-python",
   "name": "python",
   "nbconvert_exporter": "python",
   "pygments_lexer": "ipython3",
   "version": "3.10.11"
  },
  "orig_nbformat": 4
 },
 "nbformat": 4,
 "nbformat_minor": 2
}
